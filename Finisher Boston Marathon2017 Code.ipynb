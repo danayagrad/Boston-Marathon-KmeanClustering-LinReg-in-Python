{
 "cells": [
  {
   "cell_type": "code",
   "execution_count": 1,
   "metadata": {},
   "outputs": [],
   "source": [
    "import numpy as np\n",
    "import pandas as pd"
   ]
  },
  {
   "cell_type": "code",
   "execution_count": 2,
   "metadata": {},
   "outputs": [],
   "source": [
    "boston = pd.read_csv(\"C://Users//DELL//Desktop//Strathclyde 2018-2019//Classes//S1-CS 989 Big Data Fundamental//100% Assignment//Data//Finisher Boston Marathon//marathon_results_2017.csv\")"
   ]
  },
  {
   "cell_type": "code",
   "execution_count": 3,
   "metadata": {},
   "outputs": [
    {
     "data": {
      "text/html": [
       "<div>\n",
       "<style scoped>\n",
       "    .dataframe tbody tr th:only-of-type {\n",
       "        vertical-align: middle;\n",
       "    }\n",
       "\n",
       "    .dataframe tbody tr th {\n",
       "        vertical-align: top;\n",
       "    }\n",
       "\n",
       "    .dataframe thead th {\n",
       "        text-align: right;\n",
       "    }\n",
       "</style>\n",
       "<table border=\"1\" class=\"dataframe\">\n",
       "  <thead>\n",
       "    <tr style=\"text-align: right;\">\n",
       "      <th></th>\n",
       "      <th>Unnamed: 0</th>\n",
       "      <th>Age</th>\n",
       "      <th>Overall</th>\n",
       "      <th>Gender</th>\n",
       "      <th>Division</th>\n",
       "    </tr>\n",
       "  </thead>\n",
       "  <tbody>\n",
       "    <tr>\n",
       "      <th>count</th>\n",
       "      <td>26410.000000</td>\n",
       "      <td>26410.000000</td>\n",
       "      <td>26410.000000</td>\n",
       "      <td>26410.000000</td>\n",
       "      <td>26410.000000</td>\n",
       "    </tr>\n",
       "    <tr>\n",
       "      <th>mean</th>\n",
       "      <td>13204.500000</td>\n",
       "      <td>42.587732</td>\n",
       "      <td>13206.260091</td>\n",
       "      <td>6660.973230</td>\n",
       "      <td>1588.796706</td>\n",
       "    </tr>\n",
       "    <tr>\n",
       "      <th>std</th>\n",
       "      <td>7624.054641</td>\n",
       "      <td>11.419467</td>\n",
       "      <td>7624.370496</td>\n",
       "      <td>3910.031525</td>\n",
       "      <td>1423.199500</td>\n",
       "    </tr>\n",
       "    <tr>\n",
       "      <th>min</th>\n",
       "      <td>0.000000</td>\n",
       "      <td>18.000000</td>\n",
       "      <td>1.000000</td>\n",
       "      <td>1.000000</td>\n",
       "      <td>1.000000</td>\n",
       "    </tr>\n",
       "    <tr>\n",
       "      <th>25%</th>\n",
       "      <td>6602.250000</td>\n",
       "      <td>34.000000</td>\n",
       "      <td>6604.250000</td>\n",
       "      <td>3302.250000</td>\n",
       "      <td>502.000000</td>\n",
       "    </tr>\n",
       "    <tr>\n",
       "      <th>50%</th>\n",
       "      <td>13204.500000</td>\n",
       "      <td>43.000000</td>\n",
       "      <td>13206.500000</td>\n",
       "      <td>6603.500000</td>\n",
       "      <td>1154.000000</td>\n",
       "    </tr>\n",
       "    <tr>\n",
       "      <th>75%</th>\n",
       "      <td>19806.750000</td>\n",
       "      <td>51.000000</td>\n",
       "      <td>19808.750000</td>\n",
       "      <td>9904.750000</td>\n",
       "      <td>2190.750000</td>\n",
       "    </tr>\n",
       "    <tr>\n",
       "      <th>max</th>\n",
       "      <td>26409.000000</td>\n",
       "      <td>84.000000</td>\n",
       "      <td>26411.000000</td>\n",
       "      <td>14438.000000</td>\n",
       "      <td>5846.000000</td>\n",
       "    </tr>\n",
       "  </tbody>\n",
       "</table>\n",
       "</div>"
      ],
      "text/plain": [
       "         Unnamed: 0           Age       Overall        Gender      Division\n",
       "count  26410.000000  26410.000000  26410.000000  26410.000000  26410.000000\n",
       "mean   13204.500000     42.587732  13206.260091   6660.973230   1588.796706\n",
       "std     7624.054641     11.419467   7624.370496   3910.031525   1423.199500\n",
       "min        0.000000     18.000000      1.000000      1.000000      1.000000\n",
       "25%     6602.250000     34.000000   6604.250000   3302.250000    502.000000\n",
       "50%    13204.500000     43.000000  13206.500000   6603.500000   1154.000000\n",
       "75%    19806.750000     51.000000  19808.750000   9904.750000   2190.750000\n",
       "max    26409.000000     84.000000  26411.000000  14438.000000   5846.000000"
      ]
     },
     "execution_count": 3,
     "metadata": {},
     "output_type": "execute_result"
    }
   ],
   "source": [
    "boston.describe()"
   ]
  },
  {
   "cell_type": "code",
   "execution_count": 4,
   "metadata": {},
   "outputs": [
    {
     "data": {
      "text/plain": [
       "Unnamed: 0        int64\n",
       "Bib              object\n",
       "Name             object\n",
       "Age               int64\n",
       "M/F              object\n",
       "City             object\n",
       "State            object\n",
       "Country          object\n",
       "Citizen          object\n",
       "Unnamed: 9       object\n",
       "5K               object\n",
       "10K              object\n",
       "15K              object\n",
       "20K              object\n",
       "Half             object\n",
       "25K              object\n",
       "30K              object\n",
       "35K              object\n",
       "40K              object\n",
       "Pace             object\n",
       "Proj Time        object\n",
       "Official Time    object\n",
       "Overall           int64\n",
       "Gender            int64\n",
       "Division          int64\n",
       "dtype: object"
      ]
     },
     "execution_count": 4,
     "metadata": {},
     "output_type": "execute_result"
    }
   ],
   "source": [
    "boston.dtypes"
   ]
  },
  {
   "cell_type": "code",
   "execution_count": 5,
   "metadata": {},
   "outputs": [
    {
     "data": {
      "text/html": [
       "<div>\n",
       "<style scoped>\n",
       "    .dataframe tbody tr th:only-of-type {\n",
       "        vertical-align: middle;\n",
       "    }\n",
       "\n",
       "    .dataframe tbody tr th {\n",
       "        vertical-align: top;\n",
       "    }\n",
       "\n",
       "    .dataframe thead th {\n",
       "        text-align: right;\n",
       "    }\n",
       "</style>\n",
       "<table border=\"1\" class=\"dataframe\">\n",
       "  <thead>\n",
       "    <tr style=\"text-align: right;\">\n",
       "      <th></th>\n",
       "      <th>Unnamed: 0</th>\n",
       "      <th>Bib</th>\n",
       "      <th>Name</th>\n",
       "      <th>Age</th>\n",
       "      <th>M/F</th>\n",
       "      <th>City</th>\n",
       "      <th>State</th>\n",
       "      <th>Country</th>\n",
       "      <th>Citizen</th>\n",
       "      <th>Unnamed: 9</th>\n",
       "      <th>...</th>\n",
       "      <th>25K</th>\n",
       "      <th>30K</th>\n",
       "      <th>35K</th>\n",
       "      <th>40K</th>\n",
       "      <th>Pace</th>\n",
       "      <th>Proj Time</th>\n",
       "      <th>Official Time</th>\n",
       "      <th>Overall</th>\n",
       "      <th>Gender</th>\n",
       "      <th>Division</th>\n",
       "    </tr>\n",
       "  </thead>\n",
       "  <tbody>\n",
       "    <tr>\n",
       "      <th>0</th>\n",
       "      <td>0</td>\n",
       "      <td>11</td>\n",
       "      <td>Kirui, Geoffrey</td>\n",
       "      <td>24</td>\n",
       "      <td>M</td>\n",
       "      <td>Keringet</td>\n",
       "      <td>NaN</td>\n",
       "      <td>KEN</td>\n",
       "      <td>NaN</td>\n",
       "      <td>NaN</td>\n",
       "      <td>...</td>\n",
       "      <td>1:16:59</td>\n",
       "      <td>1:33:01</td>\n",
       "      <td>1:48:19</td>\n",
       "      <td>2:02:53</td>\n",
       "      <td>0:04:57</td>\n",
       "      <td>-</td>\n",
       "      <td>2:09:37</td>\n",
       "      <td>1</td>\n",
       "      <td>1</td>\n",
       "      <td>1</td>\n",
       "    </tr>\n",
       "    <tr>\n",
       "      <th>1</th>\n",
       "      <td>1</td>\n",
       "      <td>17</td>\n",
       "      <td>Rupp, Galen</td>\n",
       "      <td>30</td>\n",
       "      <td>M</td>\n",
       "      <td>Portland</td>\n",
       "      <td>OR</td>\n",
       "      <td>USA</td>\n",
       "      <td>NaN</td>\n",
       "      <td>NaN</td>\n",
       "      <td>...</td>\n",
       "      <td>1:16:59</td>\n",
       "      <td>1:33:01</td>\n",
       "      <td>1:48:19</td>\n",
       "      <td>2:03:14</td>\n",
       "      <td>0:04:58</td>\n",
       "      <td>-</td>\n",
       "      <td>2:09:58</td>\n",
       "      <td>2</td>\n",
       "      <td>2</td>\n",
       "      <td>2</td>\n",
       "    </tr>\n",
       "    <tr>\n",
       "      <th>2</th>\n",
       "      <td>2</td>\n",
       "      <td>23</td>\n",
       "      <td>Osako, Suguru</td>\n",
       "      <td>25</td>\n",
       "      <td>M</td>\n",
       "      <td>Machida-City</td>\n",
       "      <td>NaN</td>\n",
       "      <td>JPN</td>\n",
       "      <td>NaN</td>\n",
       "      <td>NaN</td>\n",
       "      <td>...</td>\n",
       "      <td>1:17:00</td>\n",
       "      <td>1:33:01</td>\n",
       "      <td>1:48:31</td>\n",
       "      <td>2:03:38</td>\n",
       "      <td>0:04:59</td>\n",
       "      <td>-</td>\n",
       "      <td>2:10:28</td>\n",
       "      <td>3</td>\n",
       "      <td>3</td>\n",
       "      <td>3</td>\n",
       "    </tr>\n",
       "    <tr>\n",
       "      <th>3</th>\n",
       "      <td>3</td>\n",
       "      <td>21</td>\n",
       "      <td>Biwott, Shadrack</td>\n",
       "      <td>32</td>\n",
       "      <td>M</td>\n",
       "      <td>Mammoth Lakes</td>\n",
       "      <td>CA</td>\n",
       "      <td>USA</td>\n",
       "      <td>NaN</td>\n",
       "      <td>NaN</td>\n",
       "      <td>...</td>\n",
       "      <td>1:17:00</td>\n",
       "      <td>1:33:01</td>\n",
       "      <td>1:48:58</td>\n",
       "      <td>2:04:35</td>\n",
       "      <td>0:05:03</td>\n",
       "      <td>-</td>\n",
       "      <td>2:12:08</td>\n",
       "      <td>4</td>\n",
       "      <td>4</td>\n",
       "      <td>4</td>\n",
       "    </tr>\n",
       "    <tr>\n",
       "      <th>4</th>\n",
       "      <td>4</td>\n",
       "      <td>9</td>\n",
       "      <td>Chebet, Wilson</td>\n",
       "      <td>31</td>\n",
       "      <td>M</td>\n",
       "      <td>Marakwet</td>\n",
       "      <td>NaN</td>\n",
       "      <td>KEN</td>\n",
       "      <td>NaN</td>\n",
       "      <td>NaN</td>\n",
       "      <td>...</td>\n",
       "      <td>1:16:59</td>\n",
       "      <td>1:33:01</td>\n",
       "      <td>1:48:41</td>\n",
       "      <td>2:05:00</td>\n",
       "      <td>0:05:04</td>\n",
       "      <td>-</td>\n",
       "      <td>2:12:35</td>\n",
       "      <td>5</td>\n",
       "      <td>5</td>\n",
       "      <td>5</td>\n",
       "    </tr>\n",
       "  </tbody>\n",
       "</table>\n",
       "<p>5 rows × 25 columns</p>\n",
       "</div>"
      ],
      "text/plain": [
       "   Unnamed: 0 Bib              Name  Age M/F           City State Country  \\\n",
       "0           0  11   Kirui, Geoffrey   24   M       Keringet   NaN     KEN   \n",
       "1           1  17       Rupp, Galen   30   M       Portland    OR     USA   \n",
       "2           2  23     Osako, Suguru   25   M   Machida-City   NaN     JPN   \n",
       "3           3  21  Biwott, Shadrack   32   M  Mammoth Lakes    CA     USA   \n",
       "4           4   9    Chebet, Wilson   31   M       Marakwet   NaN     KEN   \n",
       "\n",
       "  Citizen Unnamed: 9   ...         25K      30K      35K      40K     Pace  \\\n",
       "0     NaN        NaN   ...     1:16:59  1:33:01  1:48:19  2:02:53  0:04:57   \n",
       "1     NaN        NaN   ...     1:16:59  1:33:01  1:48:19  2:03:14  0:04:58   \n",
       "2     NaN        NaN   ...     1:17:00  1:33:01  1:48:31  2:03:38  0:04:59   \n",
       "3     NaN        NaN   ...     1:17:00  1:33:01  1:48:58  2:04:35  0:05:03   \n",
       "4     NaN        NaN   ...     1:16:59  1:33:01  1:48:41  2:05:00  0:05:04   \n",
       "\n",
       "  Proj Time Official Time Overall Gender Division  \n",
       "0         -       2:09:37       1      1        1  \n",
       "1         -       2:09:58       2      2        2  \n",
       "2         -       2:10:28       3      3        3  \n",
       "3         -       2:12:08       4      4        4  \n",
       "4         -       2:12:35       5      5        5  \n",
       "\n",
       "[5 rows x 25 columns]"
      ]
     },
     "execution_count": 5,
     "metadata": {},
     "output_type": "execute_result"
    }
   ],
   "source": [
    "boston.head(5)"
   ]
  },
  {
   "cell_type": "code",
   "execution_count": 6,
   "metadata": {},
   "outputs": [
    {
     "data": {
      "text/html": [
       "<div>\n",
       "<style scoped>\n",
       "    .dataframe tbody tr th:only-of-type {\n",
       "        vertical-align: middle;\n",
       "    }\n",
       "\n",
       "    .dataframe tbody tr th {\n",
       "        vertical-align: top;\n",
       "    }\n",
       "\n",
       "    .dataframe thead th {\n",
       "        text-align: right;\n",
       "    }\n",
       "</style>\n",
       "<table border=\"1\" class=\"dataframe\">\n",
       "  <thead>\n",
       "    <tr style=\"text-align: right;\">\n",
       "      <th></th>\n",
       "      <th>Unnamed: 0</th>\n",
       "      <th>Bib</th>\n",
       "      <th>Name</th>\n",
       "      <th>Age</th>\n",
       "      <th>M/F</th>\n",
       "      <th>City</th>\n",
       "      <th>State</th>\n",
       "      <th>Country</th>\n",
       "      <th>Citizen</th>\n",
       "      <th>Unnamed: 9</th>\n",
       "      <th>...</th>\n",
       "      <th>25K</th>\n",
       "      <th>30K</th>\n",
       "      <th>35K</th>\n",
       "      <th>40K</th>\n",
       "      <th>Pace</th>\n",
       "      <th>Proj Time</th>\n",
       "      <th>Official Time</th>\n",
       "      <th>Overall</th>\n",
       "      <th>Gender</th>\n",
       "      <th>Division</th>\n",
       "    </tr>\n",
       "  </thead>\n",
       "  <tbody>\n",
       "    <tr>\n",
       "      <th>26407</th>\n",
       "      <td>26407</td>\n",
       "      <td>27086</td>\n",
       "      <td>Hantel, Johanna</td>\n",
       "      <td>57</td>\n",
       "      <td>F</td>\n",
       "      <td>Malvern</td>\n",
       "      <td>PA</td>\n",
       "      <td>USA</td>\n",
       "      <td>NaN</td>\n",
       "      <td>NaN</td>\n",
       "      <td>...</td>\n",
       "      <td>4:15:21</td>\n",
       "      <td>5:06:37</td>\n",
       "      <td>6:00:33</td>\n",
       "      <td>6:54:38</td>\n",
       "      <td>0:16:47</td>\n",
       "      <td>-</td>\n",
       "      <td>7:19:37</td>\n",
       "      <td>26409</td>\n",
       "      <td>11973</td>\n",
       "      <td>698</td>\n",
       "    </tr>\n",
       "    <tr>\n",
       "      <th>26408</th>\n",
       "      <td>26408</td>\n",
       "      <td>25268</td>\n",
       "      <td>Reilly, Bill</td>\n",
       "      <td>64</td>\n",
       "      <td>M</td>\n",
       "      <td>New York</td>\n",
       "      <td>NY</td>\n",
       "      <td>USA</td>\n",
       "      <td>NaN</td>\n",
       "      <td>MI</td>\n",
       "      <td>...</td>\n",
       "      <td>4:06:10</td>\n",
       "      <td>5:07:09</td>\n",
       "      <td>6:06:07</td>\n",
       "      <td>6:56:08</td>\n",
       "      <td>0:16:49</td>\n",
       "      <td>-</td>\n",
       "      <td>7:20:44</td>\n",
       "      <td>26410</td>\n",
       "      <td>14437</td>\n",
       "      <td>1043</td>\n",
       "    </tr>\n",
       "    <tr>\n",
       "      <th>26409</th>\n",
       "      <td>26409</td>\n",
       "      <td>25266</td>\n",
       "      <td>Rigsby, Scott</td>\n",
       "      <td>48</td>\n",
       "      <td>M</td>\n",
       "      <td>Alpharetta</td>\n",
       "      <td>GA</td>\n",
       "      <td>USA</td>\n",
       "      <td>NaN</td>\n",
       "      <td>MI</td>\n",
       "      <td>...</td>\n",
       "      <td>4:27:14</td>\n",
       "      <td>5:37:13</td>\n",
       "      <td>6:39:07</td>\n",
       "      <td>7:41:23</td>\n",
       "      <td>0:18:15</td>\n",
       "      <td>-</td>\n",
       "      <td>7:58:14</td>\n",
       "      <td>26411</td>\n",
       "      <td>14438</td>\n",
       "      <td>2553</td>\n",
       "    </tr>\n",
       "  </tbody>\n",
       "</table>\n",
       "<p>3 rows × 25 columns</p>\n",
       "</div>"
      ],
      "text/plain": [
       "       Unnamed: 0    Bib             Name  Age M/F        City State Country  \\\n",
       "26407       26407  27086  Hantel, Johanna   57   F     Malvern    PA     USA   \n",
       "26408       26408  25268     Reilly, Bill   64   M    New York    NY     USA   \n",
       "26409       26409  25266    Rigsby, Scott   48   M  Alpharetta    GA     USA   \n",
       "\n",
       "      Citizen Unnamed: 9   ...         25K      30K      35K      40K  \\\n",
       "26407     NaN        NaN   ...     4:15:21  5:06:37  6:00:33  6:54:38   \n",
       "26408     NaN         MI   ...     4:06:10  5:07:09  6:06:07  6:56:08   \n",
       "26409     NaN         MI   ...     4:27:14  5:37:13  6:39:07  7:41:23   \n",
       "\n",
       "          Pace Proj Time Official Time Overall Gender Division  \n",
       "26407  0:16:47         -       7:19:37   26409  11973      698  \n",
       "26408  0:16:49         -       7:20:44   26410  14437     1043  \n",
       "26409  0:18:15         -       7:58:14   26411  14438     2553  \n",
       "\n",
       "[3 rows x 25 columns]"
      ]
     },
     "execution_count": 6,
     "metadata": {},
     "output_type": "execute_result"
    }
   ],
   "source": [
    "boston.tail(3)"
   ]
  },
  {
   "cell_type": "code",
   "execution_count": 7,
   "metadata": {},
   "outputs": [
    {
     "data": {
      "text/plain": [
       "(26410, 25)"
      ]
     },
     "execution_count": 7,
     "metadata": {},
     "output_type": "execute_result"
    }
   ],
   "source": [
    "boston.shape"
   ]
  },
  {
   "cell_type": "code",
   "execution_count": 8,
   "metadata": {},
   "outputs": [
    {
     "data": {
      "text/plain": [
       "Index([u'Unnamed: 0', u'Bib', u'Name', u'Age', u'M/F', u'City', u'State',\n",
       "       u'Country', u'Citizen', u'Unnamed: 9', u'5K', u'10K', u'15K', u'20K',\n",
       "       u'Half', u'25K', u'30K', u'35K', u'40K', u'Pace', u'Proj Time',\n",
       "       u'Official Time', u'Overall', u'Gender', u'Division'],\n",
       "      dtype='object')"
      ]
     },
     "execution_count": 8,
     "metadata": {},
     "output_type": "execute_result"
    }
   ],
   "source": [
    "boston.columns"
   ]
  },
  {
   "cell_type": "code",
   "execution_count": 9,
   "metadata": {},
   "outputs": [
    {
     "data": {
      "text/plain": [
       "Unnamed: 0           0\n",
       "Bib                  0\n",
       "Name                 0\n",
       "Age                  0\n",
       "M/F                  0\n",
       "City                 0\n",
       "State             3595\n",
       "Country              0\n",
       "Citizen          25156\n",
       "Unnamed: 9       26319\n",
       "5K                   0\n",
       "10K                  0\n",
       "15K                  0\n",
       "20K                  0\n",
       "Half                 0\n",
       "25K                  0\n",
       "30K                  0\n",
       "35K                  0\n",
       "40K                  0\n",
       "Pace                 0\n",
       "Proj Time            0\n",
       "Official Time        0\n",
       "Overall              0\n",
       "Gender               0\n",
       "Division             0\n",
       "dtype: int64"
      ]
     },
     "execution_count": 9,
     "metadata": {},
     "output_type": "execute_result"
    }
   ],
   "source": [
    "boston.isnull().sum()"
   ]
  },
  {
   "cell_type": "code",
   "execution_count": 10,
   "metadata": {},
   "outputs": [
    {
     "name": "stderr",
     "output_type": "stream",
     "text": [
      "C:\\Users\\DELL\\Anaconda2\\lib\\site-packages\\ipykernel_launcher.py:3: UserWarning: Boolean Series key will be reindexed to match DataFrame index.\n",
      "  This is separate from the ipykernel package so we can avoid doing imports until\n",
      "C:\\Users\\DELL\\Anaconda2\\lib\\site-packages\\ipykernel_launcher.py:4: UserWarning: Boolean Series key will be reindexed to match DataFrame index.\n",
      "  after removing the cwd from sys.path.\n",
      "C:\\Users\\DELL\\Anaconda2\\lib\\site-packages\\ipykernel_launcher.py:5: UserWarning: Boolean Series key will be reindexed to match DataFrame index.\n",
      "  \"\"\"\n",
      "C:\\Users\\DELL\\Anaconda2\\lib\\site-packages\\ipykernel_launcher.py:6: UserWarning: Boolean Series key will be reindexed to match DataFrame index.\n",
      "  \n",
      "C:\\Users\\DELL\\Anaconda2\\lib\\site-packages\\ipykernel_launcher.py:7: UserWarning: Boolean Series key will be reindexed to match DataFrame index.\n",
      "  import sys\n",
      "C:\\Users\\DELL\\Anaconda2\\lib\\site-packages\\ipykernel_launcher.py:8: UserWarning: Boolean Series key will be reindexed to match DataFrame index.\n",
      "  \n",
      "C:\\Users\\DELL\\Anaconda2\\lib\\site-packages\\ipykernel_launcher.py:9: UserWarning: Boolean Series key will be reindexed to match DataFrame index.\n",
      "  if __name__ == '__main__':\n",
      "C:\\Users\\DELL\\Anaconda2\\lib\\site-packages\\ipykernel_launcher.py:10: UserWarning: Boolean Series key will be reindexed to match DataFrame index.\n",
      "  # Remove the CWD from sys.path while we load stuff.\n"
     ]
    }
   ],
   "source": [
    "# drop '-' \n",
    "bostondrop = boston[boston['5K'] != '-']\n",
    "bostondrop = bostondrop[boston['10K'] !='-']\n",
    "bostondrop = bostondrop[boston['15K'] !='-']\n",
    "bostondrop = bostondrop[boston['20K'] !='-']\n",
    "bostondrop = bostondrop[boston['Half'] !='-']\n",
    "bostondrop = bostondrop[boston['25K'] !='-']\n",
    "bostondrop = bostondrop[boston['30K'] !='-']\n",
    "bostondrop = bostondrop[boston['35K'] !='-']\n",
    "bostondrop = bostondrop[boston['40K'] !='-']"
   ]
  },
  {
   "cell_type": "code",
   "execution_count": 11,
   "metadata": {},
   "outputs": [
    {
     "data": {
      "text/plain": [
       "(26259, 25)"
      ]
     },
     "execution_count": 11,
     "metadata": {},
     "output_type": "execute_result"
    }
   ],
   "source": [
    "bostondrop.shape"
   ]
  },
  {
   "cell_type": "code",
   "execution_count": 12,
   "metadata": {},
   "outputs": [
    {
     "data": {
      "text/html": [
       "<div>\n",
       "<style scoped>\n",
       "    .dataframe tbody tr th:only-of-type {\n",
       "        vertical-align: middle;\n",
       "    }\n",
       "\n",
       "    .dataframe tbody tr th {\n",
       "        vertical-align: top;\n",
       "    }\n",
       "\n",
       "    .dataframe thead th {\n",
       "        text-align: right;\n",
       "    }\n",
       "</style>\n",
       "<table border=\"1\" class=\"dataframe\">\n",
       "  <thead>\n",
       "    <tr style=\"text-align: right;\">\n",
       "      <th></th>\n",
       "      <th>Unnamed: 0</th>\n",
       "      <th>Bib</th>\n",
       "      <th>Name</th>\n",
       "      <th>Age</th>\n",
       "      <th>M/F</th>\n",
       "      <th>City</th>\n",
       "      <th>State</th>\n",
       "      <th>Country</th>\n",
       "      <th>Citizen</th>\n",
       "      <th>Unnamed: 9</th>\n",
       "      <th>...</th>\n",
       "      <th>25K</th>\n",
       "      <th>30K</th>\n",
       "      <th>35K</th>\n",
       "      <th>40K</th>\n",
       "      <th>Pace</th>\n",
       "      <th>Proj Time</th>\n",
       "      <th>Official Time</th>\n",
       "      <th>Overall</th>\n",
       "      <th>Gender</th>\n",
       "      <th>Division</th>\n",
       "    </tr>\n",
       "  </thead>\n",
       "  <tbody>\n",
       "    <tr>\n",
       "      <th>0</th>\n",
       "      <td>0</td>\n",
       "      <td>11</td>\n",
       "      <td>Kirui, Geoffrey</td>\n",
       "      <td>24</td>\n",
       "      <td>M</td>\n",
       "      <td>Keringet</td>\n",
       "      <td>NaN</td>\n",
       "      <td>KEN</td>\n",
       "      <td>NaN</td>\n",
       "      <td>NaN</td>\n",
       "      <td>...</td>\n",
       "      <td>1:16:59</td>\n",
       "      <td>1:33:01</td>\n",
       "      <td>1:48:19</td>\n",
       "      <td>2:02:53</td>\n",
       "      <td>0:04:57</td>\n",
       "      <td>-</td>\n",
       "      <td>2:09:37</td>\n",
       "      <td>1</td>\n",
       "      <td>1</td>\n",
       "      <td>1</td>\n",
       "    </tr>\n",
       "    <tr>\n",
       "      <th>1</th>\n",
       "      <td>1</td>\n",
       "      <td>17</td>\n",
       "      <td>Rupp, Galen</td>\n",
       "      <td>30</td>\n",
       "      <td>M</td>\n",
       "      <td>Portland</td>\n",
       "      <td>OR</td>\n",
       "      <td>USA</td>\n",
       "      <td>NaN</td>\n",
       "      <td>NaN</td>\n",
       "      <td>...</td>\n",
       "      <td>1:16:59</td>\n",
       "      <td>1:33:01</td>\n",
       "      <td>1:48:19</td>\n",
       "      <td>2:03:14</td>\n",
       "      <td>0:04:58</td>\n",
       "      <td>-</td>\n",
       "      <td>2:09:58</td>\n",
       "      <td>2</td>\n",
       "      <td>2</td>\n",
       "      <td>2</td>\n",
       "    </tr>\n",
       "    <tr>\n",
       "      <th>2</th>\n",
       "      <td>2</td>\n",
       "      <td>23</td>\n",
       "      <td>Osako, Suguru</td>\n",
       "      <td>25</td>\n",
       "      <td>M</td>\n",
       "      <td>Machida-City</td>\n",
       "      <td>NaN</td>\n",
       "      <td>JPN</td>\n",
       "      <td>NaN</td>\n",
       "      <td>NaN</td>\n",
       "      <td>...</td>\n",
       "      <td>1:17:00</td>\n",
       "      <td>1:33:01</td>\n",
       "      <td>1:48:31</td>\n",
       "      <td>2:03:38</td>\n",
       "      <td>0:04:59</td>\n",
       "      <td>-</td>\n",
       "      <td>2:10:28</td>\n",
       "      <td>3</td>\n",
       "      <td>3</td>\n",
       "      <td>3</td>\n",
       "    </tr>\n",
       "  </tbody>\n",
       "</table>\n",
       "<p>3 rows × 25 columns</p>\n",
       "</div>"
      ],
      "text/plain": [
       "   Unnamed: 0 Bib             Name  Age M/F          City State Country  \\\n",
       "0           0  11  Kirui, Geoffrey   24   M      Keringet   NaN     KEN   \n",
       "1           1  17      Rupp, Galen   30   M      Portland    OR     USA   \n",
       "2           2  23    Osako, Suguru   25   M  Machida-City   NaN     JPN   \n",
       "\n",
       "  Citizen Unnamed: 9   ...         25K      30K      35K      40K     Pace  \\\n",
       "0     NaN        NaN   ...     1:16:59  1:33:01  1:48:19  2:02:53  0:04:57   \n",
       "1     NaN        NaN   ...     1:16:59  1:33:01  1:48:19  2:03:14  0:04:58   \n",
       "2     NaN        NaN   ...     1:17:00  1:33:01  1:48:31  2:03:38  0:04:59   \n",
       "\n",
       "  Proj Time Official Time Overall Gender Division  \n",
       "0         -       2:09:37       1      1        1  \n",
       "1         -       2:09:58       2      2        2  \n",
       "2         -       2:10:28       3      3        3  \n",
       "\n",
       "[3 rows x 25 columns]"
      ]
     },
     "execution_count": 12,
     "metadata": {},
     "output_type": "execute_result"
    }
   ],
   "source": [
    "bostondrop.head(3)"
   ]
  },
  {
   "cell_type": "code",
   "execution_count": 13,
   "metadata": {},
   "outputs": [
    {
     "data": {
      "text/html": [
       "<div>\n",
       "<style scoped>\n",
       "    .dataframe tbody tr th:only-of-type {\n",
       "        vertical-align: middle;\n",
       "    }\n",
       "\n",
       "    .dataframe tbody tr th {\n",
       "        vertical-align: top;\n",
       "    }\n",
       "\n",
       "    .dataframe thead th {\n",
       "        text-align: right;\n",
       "    }\n",
       "</style>\n",
       "<table border=\"1\" class=\"dataframe\">\n",
       "  <thead>\n",
       "    <tr style=\"text-align: right;\">\n",
       "      <th></th>\n",
       "      <th>string1</th>\n",
       "      <th>string2</th>\n",
       "      <th>string3</th>\n",
       "    </tr>\n",
       "  </thead>\n",
       "  <tbody>\n",
       "    <tr>\n",
       "      <th>0</th>\n",
       "      <td>0</td>\n",
       "      <td>15</td>\n",
       "      <td>25</td>\n",
       "    </tr>\n",
       "    <tr>\n",
       "      <th>1</th>\n",
       "      <td>0</td>\n",
       "      <td>15</td>\n",
       "      <td>24</td>\n",
       "    </tr>\n",
       "    <tr>\n",
       "      <th>2</th>\n",
       "      <td>0</td>\n",
       "      <td>15</td>\n",
       "      <td>25</td>\n",
       "    </tr>\n",
       "    <tr>\n",
       "      <th>3</th>\n",
       "      <td>0</td>\n",
       "      <td>15</td>\n",
       "      <td>25</td>\n",
       "    </tr>\n",
       "    <tr>\n",
       "      <th>4</th>\n",
       "      <td>0</td>\n",
       "      <td>15</td>\n",
       "      <td>25</td>\n",
       "    </tr>\n",
       "  </tbody>\n",
       "</table>\n",
       "</div>"
      ],
      "text/plain": [
       "  string1 string2 string3\n",
       "0       0      15      25\n",
       "1       0      15      24\n",
       "2       0      15      25\n",
       "3       0      15      25\n",
       "4       0      15      25"
      ]
     },
     "execution_count": 13,
     "metadata": {},
     "output_type": "execute_result"
    }
   ],
   "source": [
    "#convert time in column time at 5K,10K,....pace and official time to time in sec and add to a new columns in the dataframe.\n",
    "fiveksplit = pd.DataFrame(bostondrop['5K'].str.split(':', expand=True).rename(columns = lambda x: \"string\"+str(x+1)))\n",
    "fiveksplit.head(5)"
   ]
  },
  {
   "cell_type": "code",
   "execution_count": 14,
   "metadata": {},
   "outputs": [
    {
     "data": {
      "text/html": [
       "<div>\n",
       "<style scoped>\n",
       "    .dataframe tbody tr th:only-of-type {\n",
       "        vertical-align: middle;\n",
       "    }\n",
       "\n",
       "    .dataframe tbody tr th {\n",
       "        vertical-align: top;\n",
       "    }\n",
       "\n",
       "    .dataframe thead th {\n",
       "        text-align: right;\n",
       "    }\n",
       "</style>\n",
       "<table border=\"1\" class=\"dataframe\">\n",
       "  <thead>\n",
       "    <tr style=\"text-align: right;\">\n",
       "      <th></th>\n",
       "      <th>string1</th>\n",
       "      <th>string2</th>\n",
       "      <th>string3</th>\n",
       "    </tr>\n",
       "  </thead>\n",
       "  <tbody>\n",
       "    <tr>\n",
       "      <th>0</th>\n",
       "      <td>0</td>\n",
       "      <td>15</td>\n",
       "      <td>25</td>\n",
       "    </tr>\n",
       "    <tr>\n",
       "      <th>1</th>\n",
       "      <td>0</td>\n",
       "      <td>15</td>\n",
       "      <td>24</td>\n",
       "    </tr>\n",
       "    <tr>\n",
       "      <th>2</th>\n",
       "      <td>0</td>\n",
       "      <td>15</td>\n",
       "      <td>25</td>\n",
       "    </tr>\n",
       "    <tr>\n",
       "      <th>3</th>\n",
       "      <td>0</td>\n",
       "      <td>15</td>\n",
       "      <td>25</td>\n",
       "    </tr>\n",
       "    <tr>\n",
       "      <th>4</th>\n",
       "      <td>0</td>\n",
       "      <td>15</td>\n",
       "      <td>25</td>\n",
       "    </tr>\n",
       "  </tbody>\n",
       "</table>\n",
       "</div>"
      ],
      "text/plain": [
       "  string1 string2 string3\n",
       "0       0      15      25\n",
       "1       0      15      24\n",
       "2       0      15      25\n",
       "3       0      15      25\n",
       "4       0      15      25"
      ]
     },
     "execution_count": 14,
     "metadata": {},
     "output_type": "execute_result"
    }
   ],
   "source": [
    "fivekhour = pd.to_numeric(fiveksplit.string1)\n",
    "fivekmin = pd.to_numeric(fiveksplit.string2)\n",
    "fiveksec = pd.to_numeric(fiveksplit.string3)\n",
    "fiveksplit.head()"
   ]
  },
  {
   "cell_type": "code",
   "execution_count": 15,
   "metadata": {},
   "outputs": [
    {
     "data": {
      "text/html": [
       "<div>\n",
       "<style scoped>\n",
       "    .dataframe tbody tr th:only-of-type {\n",
       "        vertical-align: middle;\n",
       "    }\n",
       "\n",
       "    .dataframe tbody tr th {\n",
       "        vertical-align: top;\n",
       "    }\n",
       "\n",
       "    .dataframe thead th {\n",
       "        text-align: right;\n",
       "    }\n",
       "</style>\n",
       "<table border=\"1\" class=\"dataframe\">\n",
       "  <thead>\n",
       "    <tr style=\"text-align: right;\">\n",
       "      <th></th>\n",
       "      <th>Unnamed: 0</th>\n",
       "      <th>Bib</th>\n",
       "      <th>Name</th>\n",
       "      <th>Age</th>\n",
       "      <th>M/F</th>\n",
       "      <th>City</th>\n",
       "      <th>State</th>\n",
       "      <th>Country</th>\n",
       "      <th>Citizen</th>\n",
       "      <th>Unnamed: 9</th>\n",
       "      <th>...</th>\n",
       "      <th>30K</th>\n",
       "      <th>35K</th>\n",
       "      <th>40K</th>\n",
       "      <th>Pace</th>\n",
       "      <th>Proj Time</th>\n",
       "      <th>Official Time</th>\n",
       "      <th>Overall</th>\n",
       "      <th>Gender</th>\n",
       "      <th>Division</th>\n",
       "      <th>FiveK in Sec</th>\n",
       "    </tr>\n",
       "  </thead>\n",
       "  <tbody>\n",
       "    <tr>\n",
       "      <th>0</th>\n",
       "      <td>0</td>\n",
       "      <td>11</td>\n",
       "      <td>Kirui, Geoffrey</td>\n",
       "      <td>24</td>\n",
       "      <td>M</td>\n",
       "      <td>Keringet</td>\n",
       "      <td>NaN</td>\n",
       "      <td>KEN</td>\n",
       "      <td>NaN</td>\n",
       "      <td>NaN</td>\n",
       "      <td>...</td>\n",
       "      <td>1:33:01</td>\n",
       "      <td>1:48:19</td>\n",
       "      <td>2:02:53</td>\n",
       "      <td>0:04:57</td>\n",
       "      <td>-</td>\n",
       "      <td>2:09:37</td>\n",
       "      <td>1</td>\n",
       "      <td>1</td>\n",
       "      <td>1</td>\n",
       "      <td>925</td>\n",
       "    </tr>\n",
       "    <tr>\n",
       "      <th>1</th>\n",
       "      <td>1</td>\n",
       "      <td>17</td>\n",
       "      <td>Rupp, Galen</td>\n",
       "      <td>30</td>\n",
       "      <td>M</td>\n",
       "      <td>Portland</td>\n",
       "      <td>OR</td>\n",
       "      <td>USA</td>\n",
       "      <td>NaN</td>\n",
       "      <td>NaN</td>\n",
       "      <td>...</td>\n",
       "      <td>1:33:01</td>\n",
       "      <td>1:48:19</td>\n",
       "      <td>2:03:14</td>\n",
       "      <td>0:04:58</td>\n",
       "      <td>-</td>\n",
       "      <td>2:09:58</td>\n",
       "      <td>2</td>\n",
       "      <td>2</td>\n",
       "      <td>2</td>\n",
       "      <td>924</td>\n",
       "    </tr>\n",
       "    <tr>\n",
       "      <th>2</th>\n",
       "      <td>2</td>\n",
       "      <td>23</td>\n",
       "      <td>Osako, Suguru</td>\n",
       "      <td>25</td>\n",
       "      <td>M</td>\n",
       "      <td>Machida-City</td>\n",
       "      <td>NaN</td>\n",
       "      <td>JPN</td>\n",
       "      <td>NaN</td>\n",
       "      <td>NaN</td>\n",
       "      <td>...</td>\n",
       "      <td>1:33:01</td>\n",
       "      <td>1:48:31</td>\n",
       "      <td>2:03:38</td>\n",
       "      <td>0:04:59</td>\n",
       "      <td>-</td>\n",
       "      <td>2:10:28</td>\n",
       "      <td>3</td>\n",
       "      <td>3</td>\n",
       "      <td>3</td>\n",
       "      <td>925</td>\n",
       "    </tr>\n",
       "  </tbody>\n",
       "</table>\n",
       "<p>3 rows × 26 columns</p>\n",
       "</div>"
      ],
      "text/plain": [
       "   Unnamed: 0 Bib             Name  Age M/F          City State Country  \\\n",
       "0           0  11  Kirui, Geoffrey   24   M      Keringet   NaN     KEN   \n",
       "1           1  17      Rupp, Galen   30   M      Portland    OR     USA   \n",
       "2           2  23    Osako, Suguru   25   M  Machida-City   NaN     JPN   \n",
       "\n",
       "  Citizen Unnamed: 9     ...           30K      35K      40K     Pace  \\\n",
       "0     NaN        NaN     ...       1:33:01  1:48:19  2:02:53  0:04:57   \n",
       "1     NaN        NaN     ...       1:33:01  1:48:19  2:03:14  0:04:58   \n",
       "2     NaN        NaN     ...       1:33:01  1:48:31  2:03:38  0:04:59   \n",
       "\n",
       "  Proj Time Official Time Overall Gender Division FiveK in Sec  \n",
       "0         -       2:09:37       1      1        1          925  \n",
       "1         -       2:09:58       2      2        2          924  \n",
       "2         -       2:10:28       3      3        3          925  \n",
       "\n",
       "[3 rows x 26 columns]"
      ]
     },
     "execution_count": 15,
     "metadata": {},
     "output_type": "execute_result"
    }
   ],
   "source": [
    "bostondrop['FiveK in Sec'] = fivekhour*3600 + fivekmin*60 + fiveksec\n",
    "bostondrop.head(3)"
   ]
  },
  {
   "cell_type": "code",
   "execution_count": 16,
   "metadata": {},
   "outputs": [
    {
     "data": {
      "text/html": [
       "<div>\n",
       "<style scoped>\n",
       "    .dataframe tbody tr th:only-of-type {\n",
       "        vertical-align: middle;\n",
       "    }\n",
       "\n",
       "    .dataframe tbody tr th {\n",
       "        vertical-align: top;\n",
       "    }\n",
       "\n",
       "    .dataframe thead th {\n",
       "        text-align: right;\n",
       "    }\n",
       "</style>\n",
       "<table border=\"1\" class=\"dataframe\">\n",
       "  <thead>\n",
       "    <tr style=\"text-align: right;\">\n",
       "      <th></th>\n",
       "      <th>Unnamed: 0</th>\n",
       "      <th>Bib</th>\n",
       "      <th>Name</th>\n",
       "      <th>Age</th>\n",
       "      <th>M/F</th>\n",
       "      <th>City</th>\n",
       "      <th>State</th>\n",
       "      <th>Country</th>\n",
       "      <th>Citizen</th>\n",
       "      <th>Unnamed: 9</th>\n",
       "      <th>...</th>\n",
       "      <th>FiveK in Sec</th>\n",
       "      <th>TenK in Sec</th>\n",
       "      <th>FifteenK in Sec</th>\n",
       "      <th>TwentyK in Sec</th>\n",
       "      <th>HalfK in Sec</th>\n",
       "      <th>TwentyfiveK in Sec</th>\n",
       "      <th>ThirtyK in Sec</th>\n",
       "      <th>ThirtyFiveK in Sec</th>\n",
       "      <th>FortyK in Sec</th>\n",
       "      <th>Official Time in Sec</th>\n",
       "    </tr>\n",
       "  </thead>\n",
       "  <tbody>\n",
       "    <tr>\n",
       "      <th>0</th>\n",
       "      <td>0</td>\n",
       "      <td>11</td>\n",
       "      <td>Kirui, Geoffrey</td>\n",
       "      <td>24</td>\n",
       "      <td>M</td>\n",
       "      <td>Keringet</td>\n",
       "      <td>NaN</td>\n",
       "      <td>KEN</td>\n",
       "      <td>NaN</td>\n",
       "      <td>NaN</td>\n",
       "      <td>...</td>\n",
       "      <td>925</td>\n",
       "      <td>1828</td>\n",
       "      <td>2744</td>\n",
       "      <td>3675</td>\n",
       "      <td>3875</td>\n",
       "      <td>4619</td>\n",
       "      <td>5581</td>\n",
       "      <td>6499</td>\n",
       "      <td>7373</td>\n",
       "      <td>7777</td>\n",
       "    </tr>\n",
       "    <tr>\n",
       "      <th>1</th>\n",
       "      <td>1</td>\n",
       "      <td>17</td>\n",
       "      <td>Rupp, Galen</td>\n",
       "      <td>30</td>\n",
       "      <td>M</td>\n",
       "      <td>Portland</td>\n",
       "      <td>OR</td>\n",
       "      <td>USA</td>\n",
       "      <td>NaN</td>\n",
       "      <td>NaN</td>\n",
       "      <td>...</td>\n",
       "      <td>924</td>\n",
       "      <td>1827</td>\n",
       "      <td>2744</td>\n",
       "      <td>3675</td>\n",
       "      <td>3875</td>\n",
       "      <td>4619</td>\n",
       "      <td>5581</td>\n",
       "      <td>6499</td>\n",
       "      <td>7394</td>\n",
       "      <td>7798</td>\n",
       "    </tr>\n",
       "    <tr>\n",
       "      <th>2</th>\n",
       "      <td>2</td>\n",
       "      <td>23</td>\n",
       "      <td>Osako, Suguru</td>\n",
       "      <td>25</td>\n",
       "      <td>M</td>\n",
       "      <td>Machida-City</td>\n",
       "      <td>NaN</td>\n",
       "      <td>JPN</td>\n",
       "      <td>NaN</td>\n",
       "      <td>NaN</td>\n",
       "      <td>...</td>\n",
       "      <td>925</td>\n",
       "      <td>1829</td>\n",
       "      <td>2744</td>\n",
       "      <td>3676</td>\n",
       "      <td>3876</td>\n",
       "      <td>4620</td>\n",
       "      <td>5581</td>\n",
       "      <td>6511</td>\n",
       "      <td>7418</td>\n",
       "      <td>7828</td>\n",
       "    </tr>\n",
       "  </tbody>\n",
       "</table>\n",
       "<p>3 rows × 35 columns</p>\n",
       "</div>"
      ],
      "text/plain": [
       "   Unnamed: 0 Bib             Name  Age M/F          City State Country  \\\n",
       "0           0  11  Kirui, Geoffrey   24   M      Keringet   NaN     KEN   \n",
       "1           1  17      Rupp, Galen   30   M      Portland    OR     USA   \n",
       "2           2  23    Osako, Suguru   25   M  Machida-City   NaN     JPN   \n",
       "\n",
       "  Citizen Unnamed: 9         ...          FiveK in Sec TenK in Sec  \\\n",
       "0     NaN        NaN         ...                   925        1828   \n",
       "1     NaN        NaN         ...                   924        1827   \n",
       "2     NaN        NaN         ...                   925        1829   \n",
       "\n",
       "  FifteenK in Sec TwentyK in Sec HalfK in Sec TwentyfiveK in Sec  \\\n",
       "0            2744           3675         3875               4619   \n",
       "1            2744           3675         3875               4619   \n",
       "2            2744           3676         3876               4620   \n",
       "\n",
       "  ThirtyK in Sec ThirtyFiveK in Sec FortyK in Sec Official Time in Sec  \n",
       "0           5581               6499          7373                 7777  \n",
       "1           5581               6499          7394                 7798  \n",
       "2           5581               6511          7418                 7828  \n",
       "\n",
       "[3 rows x 35 columns]"
      ]
     },
     "execution_count": 16,
     "metadata": {},
     "output_type": "execute_result"
    }
   ],
   "source": [
    "tenksplit = pd.DataFrame(bostondrop['10K'].str.split(':', expand=True).rename(columns = lambda x: \"string\"+str(x+1)))\n",
    "tenkhour = pd.to_numeric(tenksplit.string1)\n",
    "tenkmin = pd.to_numeric(tenksplit.string2)\n",
    "tenksec = pd.to_numeric(tenksplit.string3)\n",
    "bostondrop['TenK in Sec'] = tenkhour*3600 + tenkmin*60 + tenksec\n",
    "\n",
    "fifteensplit = pd.DataFrame(bostondrop['15K'].str.split(':', expand=True).rename(columns = lambda x: \"string\"+str(x+1)))\n",
    "fifteenkhour = pd.to_numeric(fifteensplit.string1)\n",
    "fifteenkmin = pd.to_numeric(fifteensplit.string2)\n",
    "fifteenksec = pd.to_numeric(fifteensplit.string3)\n",
    "bostondrop['FifteenK in Sec'] = fifteenkhour*3600 + fifteenkmin*60 + fifteenksec\n",
    "\n",
    "twtsplit = pd.DataFrame(bostondrop['20K'].str.split(':', expand=True).rename(columns = lambda x: \"string\"+str(x+1)))\n",
    "twtkhour = pd.to_numeric(twtsplit.string1)\n",
    "twtkmin = pd.to_numeric(twtsplit.string2)\n",
    "twtksec = pd.to_numeric(twtsplit.string3)\n",
    "bostondrop['TwentyK in Sec'] = twtkhour*3600 + twtkmin*60 + twtksec\n",
    "\n",
    "halfsplit = pd.DataFrame(bostondrop['Half'].str.split(':', expand=True).rename(columns = lambda x: \"string\"+str(x+1)))\n",
    "halfkhour = pd.to_numeric(halfsplit.string1)\n",
    "halfkmin = pd.to_numeric(halfsplit.string2)\n",
    "halfksec = pd.to_numeric(halfsplit.string3)\n",
    "bostondrop['HalfK in Sec'] = halfkhour*3600 + halfkmin*60 + halfksec\n",
    "\n",
    "twfivesplit = pd.DataFrame(bostondrop['25K'].str.split(':', expand=True).rename(columns = lambda x: \"string\"+str(x+1)))\n",
    "twfivekhour = pd.to_numeric(twfivesplit.string1)\n",
    "twfivekmin = pd.to_numeric(twfivesplit.string2)\n",
    "twfiveksec = pd.to_numeric(twfivesplit.string3)\n",
    "bostondrop['TwentyfiveK in Sec'] = twfivekhour*3600 + twfivekmin*60 + twfiveksec\n",
    "\n",
    "thirtysplit = pd.DataFrame(bostondrop['30K'].str.split(':', expand=True).rename(columns = lambda x: \"string\"+str(x+1)))\n",
    "thirtykhour = pd.to_numeric(thirtysplit.string1)\n",
    "thirtykmin = pd.to_numeric(thirtysplit.string2)\n",
    "thirtyksec = pd.to_numeric(thirtysplit.string3)\n",
    "bostondrop['ThirtyK in Sec'] = thirtykhour*3600 + thirtykmin*60 + thirtyksec\n",
    "\n",
    "thirfvsplit = pd.DataFrame(bostondrop['35K'].str.split(':', expand=True).rename(columns = lambda x: \"string\"+str(x+1)))\n",
    "thirfvkhour = pd.to_numeric(thirfvsplit.string1)\n",
    "thirfvkmin = pd.to_numeric(thirfvsplit.string2)\n",
    "thirfvksec = pd.to_numeric(thirfvsplit.string3)\n",
    "bostondrop['ThirtyFiveK in Sec'] = thirfvkhour*3600 + thirfvkmin*60 + thirfvksec\n",
    "\n",
    "fourtysplit = pd.DataFrame(bostondrop['40K'].str.split(':', expand=True).rename(columns = lambda x: \"string\"+str(x+1)))\n",
    "fourtykhour = pd.to_numeric(fourtysplit.string1)\n",
    "fourtykmin = pd.to_numeric(fourtysplit.string2)\n",
    "fourtyksec = pd.to_numeric(fourtysplit.string3)\n",
    "bostondrop['FortyK in Sec'] = fourtykhour*3600 + fourtykmin*60 + fourtyksec\n",
    "\n",
    "officialsplit = pd.DataFrame(bostondrop['Official Time'].str.split(':', expand=True).rename(columns = lambda x: \"string\"+str(x+1)))\n",
    "officialkhour = pd.to_numeric(officialsplit.string1)\n",
    "officialkmin = pd.to_numeric(officialsplit.string2)\n",
    "officialksec = pd.to_numeric(officialsplit.string3)\n",
    "bostondrop['Official Time in Sec'] = officialkhour*3600 + officialkmin*60 + officialksec\n",
    "bostondrop.head(3)"
   ]
  },
  {
   "cell_type": "code",
   "execution_count": 17,
   "metadata": {},
   "outputs": [
    {
     "data": {
      "text/html": [
       "<div>\n",
       "<style scoped>\n",
       "    .dataframe tbody tr th:only-of-type {\n",
       "        vertical-align: middle;\n",
       "    }\n",
       "\n",
       "    .dataframe tbody tr th {\n",
       "        vertical-align: top;\n",
       "    }\n",
       "\n",
       "    .dataframe thead th {\n",
       "        text-align: right;\n",
       "    }\n",
       "</style>\n",
       "<table border=\"1\" class=\"dataframe\">\n",
       "  <thead>\n",
       "    <tr style=\"text-align: right;\">\n",
       "      <th></th>\n",
       "      <th>Unnamed: 0</th>\n",
       "      <th>Bib</th>\n",
       "      <th>Name</th>\n",
       "      <th>Age</th>\n",
       "      <th>M/F</th>\n",
       "      <th>City</th>\n",
       "      <th>State</th>\n",
       "      <th>Country</th>\n",
       "      <th>Citizen</th>\n",
       "      <th>Unnamed: 9</th>\n",
       "      <th>...</th>\n",
       "      <th>TenK in Sec</th>\n",
       "      <th>FifteenK in Sec</th>\n",
       "      <th>TwentyK in Sec</th>\n",
       "      <th>HalfK in Sec</th>\n",
       "      <th>TwentyfiveK in Sec</th>\n",
       "      <th>ThirtyK in Sec</th>\n",
       "      <th>ThirtyFiveK in Sec</th>\n",
       "      <th>FortyK in Sec</th>\n",
       "      <th>Official Time in Sec</th>\n",
       "      <th>pace in sec/km</th>\n",
       "    </tr>\n",
       "  </thead>\n",
       "  <tbody>\n",
       "    <tr>\n",
       "      <th>0</th>\n",
       "      <td>0</td>\n",
       "      <td>11</td>\n",
       "      <td>Kirui, Geoffrey</td>\n",
       "      <td>24</td>\n",
       "      <td>M</td>\n",
       "      <td>Keringet</td>\n",
       "      <td>NaN</td>\n",
       "      <td>KEN</td>\n",
       "      <td>NaN</td>\n",
       "      <td>NaN</td>\n",
       "      <td>...</td>\n",
       "      <td>1828</td>\n",
       "      <td>2744</td>\n",
       "      <td>3675</td>\n",
       "      <td>3875</td>\n",
       "      <td>4619</td>\n",
       "      <td>5581</td>\n",
       "      <td>6499</td>\n",
       "      <td>7373</td>\n",
       "      <td>7777</td>\n",
       "      <td>184.547703</td>\n",
       "    </tr>\n",
       "    <tr>\n",
       "      <th>1</th>\n",
       "      <td>1</td>\n",
       "      <td>17</td>\n",
       "      <td>Rupp, Galen</td>\n",
       "      <td>30</td>\n",
       "      <td>M</td>\n",
       "      <td>Portland</td>\n",
       "      <td>OR</td>\n",
       "      <td>USA</td>\n",
       "      <td>NaN</td>\n",
       "      <td>NaN</td>\n",
       "      <td>...</td>\n",
       "      <td>1827</td>\n",
       "      <td>2744</td>\n",
       "      <td>3675</td>\n",
       "      <td>3875</td>\n",
       "      <td>4619</td>\n",
       "      <td>5581</td>\n",
       "      <td>6499</td>\n",
       "      <td>7394</td>\n",
       "      <td>7798</td>\n",
       "      <td>185.169076</td>\n",
       "    </tr>\n",
       "    <tr>\n",
       "      <th>2</th>\n",
       "      <td>2</td>\n",
       "      <td>23</td>\n",
       "      <td>Osako, Suguru</td>\n",
       "      <td>25</td>\n",
       "      <td>M</td>\n",
       "      <td>Machida-City</td>\n",
       "      <td>NaN</td>\n",
       "      <td>JPN</td>\n",
       "      <td>NaN</td>\n",
       "      <td>NaN</td>\n",
       "      <td>...</td>\n",
       "      <td>1829</td>\n",
       "      <td>2744</td>\n",
       "      <td>3676</td>\n",
       "      <td>3876</td>\n",
       "      <td>4620</td>\n",
       "      <td>5581</td>\n",
       "      <td>6511</td>\n",
       "      <td>7418</td>\n",
       "      <td>7828</td>\n",
       "      <td>185.790448</td>\n",
       "    </tr>\n",
       "  </tbody>\n",
       "</table>\n",
       "<p>3 rows × 36 columns</p>\n",
       "</div>"
      ],
      "text/plain": [
       "   Unnamed: 0 Bib             Name  Age M/F          City State Country  \\\n",
       "0           0  11  Kirui, Geoffrey   24   M      Keringet   NaN     KEN   \n",
       "1           1  17      Rupp, Galen   30   M      Portland    OR     USA   \n",
       "2           2  23    Osako, Suguru   25   M  Machida-City   NaN     JPN   \n",
       "\n",
       "  Citizen Unnamed: 9      ...       TenK in Sec FifteenK in Sec  \\\n",
       "0     NaN        NaN      ...              1828            2744   \n",
       "1     NaN        NaN      ...              1827            2744   \n",
       "2     NaN        NaN      ...              1829            2744   \n",
       "\n",
       "  TwentyK in Sec HalfK in Sec TwentyfiveK in Sec ThirtyK in Sec  \\\n",
       "0           3675         3875               4619           5581   \n",
       "1           3675         3875               4619           5581   \n",
       "2           3676         3876               4620           5581   \n",
       "\n",
       "  ThirtyFiveK in Sec FortyK in Sec Official Time in Sec pace in sec/km  \n",
       "0               6499          7373                 7777     184.547703  \n",
       "1               6499          7394                 7798     185.169076  \n",
       "2               6511          7418                 7828     185.790448  \n",
       "\n",
       "[3 rows x 36 columns]"
      ]
     },
     "execution_count": 17,
     "metadata": {},
     "output_type": "execute_result"
    }
   ],
   "source": [
    "#pace is in min per mile, convert to second per km as in other columns.\n",
    "pacesplit = pd.DataFrame(bostondrop['Pace'].str.split(':', expand=True).rename(columns = lambda x: \"string\"+str(x+1)))\n",
    "pacehour = pd.to_numeric(pacesplit.string1)\n",
    "pacemin = pd.to_numeric(pacesplit.string2)\n",
    "pacesec = pd.to_numeric(pacesplit.string3)\n",
    "bostondrop['pace in sec/km'] = (pacehour*3600 + pacemin*60 + pacesec)/1.60934\n",
    "bostondrop.head(3)"
   ]
  },
  {
   "cell_type": "code",
   "execution_count": 18,
   "metadata": {},
   "outputs": [],
   "source": [
    "import matplotlib.pyplot as plt\n",
    "import seaborn as sns"
   ]
  },
  {
   "cell_type": "code",
   "execution_count": 19,
   "metadata": {},
   "outputs": [
    {
     "data": {
      "text/plain": [
       "Index([u'Unnamed: 0', u'Bib', u'Name', u'Age', u'M/F', u'City', u'State',\n",
       "       u'Country', u'Citizen', u'Unnamed: 9', u'5K', u'10K', u'15K', u'20K',\n",
       "       u'Half', u'25K', u'30K', u'35K', u'40K', u'Pace', u'Proj Time',\n",
       "       u'Official Time', u'Overall', u'Gender', u'Division', u'FiveK in Sec',\n",
       "       u'TenK in Sec', u'FifteenK in Sec', u'TwentyK in Sec', u'HalfK in Sec',\n",
       "       u'TwentyfiveK in Sec', u'ThirtyK in Sec', u'ThirtyFiveK in Sec',\n",
       "       u'FortyK in Sec', u'Official Time in Sec', u'pace in sec/km'],\n",
       "      dtype='object')"
      ]
     },
     "execution_count": 19,
     "metadata": {},
     "output_type": "execute_result"
    }
   ],
   "source": [
    "bostondrop.columns"
   ]
  },
  {
   "cell_type": "code",
   "execution_count": 20,
   "metadata": {},
   "outputs": [
    {
     "data": {
      "text/plain": [
       "[Text(0,0.5,'Count'),\n",
       " Text(0.5,0,'Gender'),\n",
       " Text(0.5,1,'Boston Marathon Finishers Gender')]"
      ]
     },
     "execution_count": 20,
     "metadata": {},
     "output_type": "execute_result"
    },
    {
     "data": {
      "image/png": "[encoded data removed]",
      "text/plain": [
       "<Figure size 432x288 with 1 Axes>"
      ]
     },
     "metadata": {},
     "output_type": "display_data"
    }
   ],
   "source": [
    "sns.set(style=\"whitegrid\")\n",
    "gender = sns.countplot(x=\"M/F\", data=bostondrop, palette=\"Set3\")\n",
    "gender.set(xlabel='Gender', ylabel='Count', title = 'Boston Marathon Finishers Gender')"
   ]
  },
  {
   "cell_type": "code",
   "execution_count": 21,
   "metadata": {},
   "outputs": [
    {
     "data": {
      "image/png": "[encoded data removed]",
      "text/plain": [
       "<Figure size 432x288 with 1 Axes>"
      ]
     },
     "metadata": {},
     "output_type": "display_data"
    }
   ],
   "source": [
    "sns.set(style=\"whitegrid\")\n",
    "age = sns.boxplot(x=bostondrop[\"Age\"], color = 'c')\n",
    "age.set_xlabel('Age in Year', fontsize=12)\n",
    "age.set_title('Boston Marathon Finishers Age', fontsize = 18)\n",
    "age.tick_params(labelsize=10)"
   ]
  },
  {
   "cell_type": "code",
   "execution_count": 22,
   "metadata": {},
   "outputs": [
    {
     "data": {
      "image/png": "[encoded data removed]",
      "text/plain": [
       "<Figure size 1800x1080 with 1 Axes>"
      ]
     },
     "metadata": {},
     "output_type": "display_data"
    }
   ],
   "source": [
    "plt.figure(figsize = (25,15))\n",
    "sns.set(style=\"whitegrid\")\n",
    "age = sns.countplot(x=\"Age\", data=bostondrop, palette=\"Set3\")\n",
    "age.set_xlabel('Age in Year', fontsize=25)\n",
    "age.set_ylabel('Count', fontsize=25)\n",
    "age.set_title('Boston Marathon Finishers Age', fontsize = 35)\n",
    "age.tick_params(labelsize=15)"
   ]
  },
  {
   "cell_type": "code",
   "execution_count": 26,
   "metadata": {},
   "outputs": [
    {
     "data": {
      "image/png": "[encoded data removed]",
      "text/plain": [
       "<Figure size 1800x1080 with 1 Axes>"
      ]
     },
     "metadata": {},
     "output_type": "display_data"
    }
   ],
   "source": [
    "plt.figure(figsize = (25,15))\n",
    "time = sns.boxplot(data=bostondrop.iloc[:,25:35], palette=\"Set3\")\n",
    "\n",
    "time.set_xlabel('Distanc in Km', fontsize=25)\n",
    "time.set_ylabel('Running Time in Second', fontsize=25)\n",
    "time.set_title('Running Time at Diffent Distanc', fontsize = 30)\n",
    "time.tick_params(labelsize=20)\n",
    "time.set(xticklabels=['5', '10', '15', '20', 'Half', '25','30','35','40', 'Finish'])\n",
    "\n",
    "plt.show()"
   ]
  },
  {
   "cell_type": "code",
   "execution_count": 29,
   "metadata": {},
   "outputs": [
    {
     "data": {
      "image/png": "[encoded data removed]",
      "text/plain": [
       "<Figure size 432x288 with 1 Axes>"
      ]
     },
     "metadata": {},
     "output_type": "display_data"
    }
   ],
   "source": [
    "sns.set(style=\"whitegrid\")\n",
    "time = sns.boxplot(x=bostondrop[\"Official Time in Sec\"], color = 'lightblue')\n",
    "time.set_xlabel('Finish Time in Sec', fontsize=15)\n",
    "time.set_title('Boston Marathon Finishers Finish Time', fontsize = 18)\n",
    "time.tick_params(labelsize=13)"
   ]
  },
  {
   "cell_type": "code",
   "execution_count": 33,
   "metadata": {},
   "outputs": [
    {
     "data": {
      "image/png": "[encoded data removed]",
      "text/plain": [
       "<Figure size 432x288 with 1 Axes>"
      ]
     },
     "metadata": {},
     "output_type": "display_data"
    }
   ],
   "source": [
    "sns.set(style=\"whitegrid\")\n",
    "pace = sns.boxplot(x=bostondrop[\"pace in sec/km\"], color = 'cornflowerblue')\n",
    "pace.set_xlabel('Race Pace in Sec/Km', fontsize=12)\n",
    "pace.set_title('Boston Marathon Finishers Race Pace', fontsize = 15)\n",
    "pace.tick_params(labelsize=15)"
   ]
  },
  {
   "cell_type": "code",
   "execution_count": 34,
   "metadata": {},
   "outputs": [
    {
     "data": {
      "image/png": "[encoded data removed]",
      "text/plain": [
       "<Figure size 432x288 with 1 Axes>"
      ]
     },
     "metadata": {},
     "output_type": "display_data"
    }
   ],
   "source": [
    "agetime = sns.scatterplot(x=\"Age\", y=\"Official Time in Sec\", data=bostondrop, color=\"salmon\")\n",
    "agetime.set_xlabel(xlabel='Age of Finisher', fontsize = 12)\n",
    "agetime.set_ylabel(ylabel='Finish Time in Sec', fontsize = 12)\n",
    "agetime.set_title('Relationship between Age and Time', fontsize = 15)\n",
    "agetime.tick_params(labelsize=10)"
   ]
  },
  {
   "cell_type": "code",
   "execution_count": 36,
   "metadata": {},
   "outputs": [
    {
     "data": {
      "text/html": [
       "<div>\n",
       "<style scoped>\n",
       "    .dataframe tbody tr th:only-of-type {\n",
       "        vertical-align: middle;\n",
       "    }\n",
       "\n",
       "    .dataframe tbody tr th {\n",
       "        vertical-align: top;\n",
       "    }\n",
       "\n",
       "    .dataframe thead th {\n",
       "        text-align: right;\n",
       "    }\n",
       "</style>\n",
       "<table border=\"1\" class=\"dataframe\">\n",
       "  <thead>\n",
       "    <tr style=\"text-align: right;\">\n",
       "      <th></th>\n",
       "      <th>Age</th>\n",
       "      <th>Official Time in Sec</th>\n",
       "    </tr>\n",
       "  </thead>\n",
       "  <tbody>\n",
       "    <tr>\n",
       "      <th>0</th>\n",
       "      <td>24</td>\n",
       "      <td>7777</td>\n",
       "    </tr>\n",
       "    <tr>\n",
       "      <th>1</th>\n",
       "      <td>30</td>\n",
       "      <td>7798</td>\n",
       "    </tr>\n",
       "    <tr>\n",
       "      <th>2</th>\n",
       "      <td>25</td>\n",
       "      <td>7828</td>\n",
       "    </tr>\n",
       "    <tr>\n",
       "      <th>3</th>\n",
       "      <td>32</td>\n",
       "      <td>7928</td>\n",
       "    </tr>\n",
       "    <tr>\n",
       "      <th>4</th>\n",
       "      <td>31</td>\n",
       "      <td>7955</td>\n",
       "    </tr>\n",
       "  </tbody>\n",
       "</table>\n",
       "</div>"
      ],
      "text/plain": [
       "   Age  Official Time in Sec\n",
       "0   24                  7777\n",
       "1   30                  7798\n",
       "2   25                  7828\n",
       "3   32                  7928\n",
       "4   31                  7955"
      ]
     },
     "execution_count": 36,
     "metadata": {},
     "output_type": "execute_result"
    }
   ],
   "source": [
    "AgeTime = bostondrop.iloc[0:26410, [3,34]]\n",
    "AgeTime.head(5)"
   ]
  },
  {
   "cell_type": "code",
   "execution_count": 37,
   "metadata": {},
   "outputs": [],
   "source": [
    "from sklearn import preprocessing"
   ]
  },
  {
   "cell_type": "code",
   "execution_count": 38,
   "metadata": {},
   "outputs": [
    {
     "name": "stderr",
     "output_type": "stream",
     "text": [
      "C:\\Users\\DELL\\Anaconda2\\lib\\site-packages\\sklearn\\utils\\validation.py:475: DataConversionWarning: Data with input dtype int64 was converted to float64 by MinMaxScaler.\n",
      "  warnings.warn(msg, DataConversionWarning)\n"
     ]
    },
    {
     "data": {
      "text/html": [
       "<div>\n",
       "<style scoped>\n",
       "    .dataframe tbody tr th:only-of-type {\n",
       "        vertical-align: middle;\n",
       "    }\n",
       "\n",
       "    .dataframe tbody tr th {\n",
       "        vertical-align: top;\n",
       "    }\n",
       "\n",
       "    .dataframe thead th {\n",
       "        text-align: right;\n",
       "    }\n",
       "</style>\n",
       "<table border=\"1\" class=\"dataframe\">\n",
       "  <thead>\n",
       "    <tr style=\"text-align: right;\">\n",
       "      <th></th>\n",
       "      <th>0</th>\n",
       "      <th>1</th>\n",
       "    </tr>\n",
       "  </thead>\n",
       "  <tbody>\n",
       "    <tr>\n",
       "      <th>0</th>\n",
       "      <td>0.090909</td>\n",
       "      <td>0.000000</td>\n",
       "    </tr>\n",
       "    <tr>\n",
       "      <th>1</th>\n",
       "      <td>0.181818</td>\n",
       "      <td>0.001004</td>\n",
       "    </tr>\n",
       "    <tr>\n",
       "      <th>2</th>\n",
       "      <td>0.106061</td>\n",
       "      <td>0.002438</td>\n",
       "    </tr>\n",
       "    <tr>\n",
       "      <th>3</th>\n",
       "      <td>0.212121</td>\n",
       "      <td>0.007219</td>\n",
       "    </tr>\n",
       "    <tr>\n",
       "      <th>4</th>\n",
       "      <td>0.196970</td>\n",
       "      <td>0.008510</td>\n",
       "    </tr>\n",
       "  </tbody>\n",
       "</table>\n",
       "</div>"
      ],
      "text/plain": [
       "          0         1\n",
       "0  0.090909  0.000000\n",
       "1  0.181818  0.001004\n",
       "2  0.106061  0.002438\n",
       "3  0.212121  0.007219\n",
       "4  0.196970  0.008510"
      ]
     },
     "execution_count": 38,
     "metadata": {},
     "output_type": "execute_result"
    }
   ],
   "source": [
    "#normalize parameters\n",
    "x = AgeTime.values \n",
    "min_max_scaler = preprocessing.MinMaxScaler() # not normally distributed, use minmax.\n",
    "scaled = min_max_scaler.fit_transform(x)\n",
    "AgeTime_scaled = pd.DataFrame(scaled)\n",
    "AgeTime_scaled.head(5)"
   ]
  },
  {
   "cell_type": "code",
   "execution_count": 39,
   "metadata": {},
   "outputs": [],
   "source": [
    "from sklearn import metrics\n",
    "from sklearn import cluster\n",
    "from sklearn.cluster import KMeans"
   ]
  },
  {
   "cell_type": "code",
   "execution_count": 40,
   "metadata": {},
   "outputs": [],
   "source": [
    "# find K\n",
    "AgeTime_scaledvalue=AgeTime_scaled.values[:,:]\n",
    "Sum_of_squared_distances = []\n",
    "K = range(1,15)\n",
    "for k in K:\n",
    "    km = KMeans(n_clusters=k)\n",
    "    km = km.fit(AgeTime_scaledvalue)\n",
    "    Sum_of_squared_distances.append(km.inertia_)"
   ]
  },
  {
   "cell_type": "code",
   "execution_count": 41,
   "metadata": {},
   "outputs": [
    {
     "data": {
      "image/png": "[encoded data removed]",
      "text/plain": [
       "<Figure size 432x288 with 1 Axes>"
      ]
     },
     "metadata": {},
     "output_type": "display_data"
    }
   ],
   "source": [
    "plt.plot(K, Sum_of_squared_distances, 'bx-', c = 'firebrick')\n",
    "plt.xlim(0,15)\n",
    "plt.xlabel('k')\n",
    "plt.ylabel('Sum_of_squared_distances')\n",
    "plt.title('Elbow Graph for Optimal k')\n",
    "plt.show()"
   ]
  },
  {
   "cell_type": "code",
   "execution_count": 52,
   "metadata": {},
   "outputs": [
    {
     "data": {
      "text/plain": [
       "Text(0.5,1,'Clustering by Age and Finish Time')"
      ]
     },
     "execution_count": 52,
     "metadata": {},
     "output_type": "execute_result"
    },
    {
     "data": {
      "image/png": "[encoded data removed]",
      "text/plain": [
       "<Figure size 432x288 with 1 Axes>"
      ]
     },
     "metadata": {},
     "output_type": "display_data"
    }
   ],
   "source": [
    "#K mean and plot cluster chart, K  = 6 from elbow graph.\n",
    "plt.scatter(AgeTime_scaled[0], AgeTime_scaled[1], s=30)\n",
    "kmeans = KMeans(n_clusters=6)\n",
    "kmeans.fit(AgeTime_scaled)\n",
    "y_kmeans = kmeans.predict(AgeTime_scaled)\n",
    "plt.scatter(AgeTime_scaled[0], AgeTime_scaled[1], c=y_kmeans, s=50, cmap='Set3')\n",
    "\n",
    "centers = kmeans.cluster_centers_\n",
    "plt.scatter(centers[:, 0], centers[:, 1], c='black', s=200, alpha=0.5)\n",
    "plt.xlabel(\"Age in Year\")\n",
    "plt.ylabel(\"Finish Time in Second\")\n",
    "plt.title(\"Clustering by Age and Finish Time\")"
   ]
  },
  {
   "cell_type": "code",
   "execution_count": 53,
   "metadata": {},
   "outputs": [
    {
     "name": "stdout",
     "output_type": "stream",
     "text": [
      "0.604451997904333\n",
      "0.11620897401799282\n"
     ]
    }
   ],
   "source": [
    "print metrics.completeness_score(AgeTime_scaled[1], kmeans.labels_)\n",
    "print metrics.homogeneity_score(AgeTime_scaled[1], kmeans.labels_)"
   ]
  },
  {
   "cell_type": "code",
   "execution_count": 54,
   "metadata": {},
   "outputs": [
    {
     "name": "stdout",
     "output_type": "stream",
     "text": [
      "[[0.33692898 0.24059797]\n",
      " [0.50029189 0.28151569]\n",
      " [0.65774932 0.41107159]\n",
      " [0.41768175 0.48202989]\n",
      " [0.15906617 0.21362675]\n",
      " [0.16809456 0.45910476]]\n"
     ]
    }
   ],
   "source": [
    "print(kmeans.cluster_centers_)"
   ]
  },
  {
   "cell_type": "code",
   "execution_count": 55,
   "metadata": {},
   "outputs": [
    {
     "name": "stdout",
     "output_type": "stream",
     "text": [
      "[4 4 4 ... 5 2 3]\n"
     ]
    }
   ],
   "source": [
    "print(kmeans.labels_)"
   ]
  },
  {
   "cell_type": "code",
   "execution_count": 56,
   "metadata": {},
   "outputs": [
    {
     "data": {
      "text/plain": [
       "26259"
      ]
     },
     "execution_count": 56,
     "metadata": {},
     "output_type": "execute_result"
    }
   ],
   "source": [
    "len(kmeans.labels_)"
   ]
  },
  {
   "cell_type": "code",
   "execution_count": 57,
   "metadata": {},
   "outputs": [
    {
     "data": {
      "text/html": [
       "<div>\n",
       "<style scoped>\n",
       "    .dataframe tbody tr th:only-of-type {\n",
       "        vertical-align: middle;\n",
       "    }\n",
       "\n",
       "    .dataframe tbody tr th {\n",
       "        vertical-align: top;\n",
       "    }\n",
       "\n",
       "    .dataframe thead th {\n",
       "        text-align: right;\n",
       "    }\n",
       "</style>\n",
       "<table border=\"1\" class=\"dataframe\">\n",
       "  <thead>\n",
       "    <tr style=\"text-align: right;\">\n",
       "      <th></th>\n",
       "      <th>Unnamed: 0</th>\n",
       "      <th>Bib</th>\n",
       "      <th>Name</th>\n",
       "      <th>Age</th>\n",
       "      <th>M/F</th>\n",
       "      <th>City</th>\n",
       "      <th>State</th>\n",
       "      <th>Country</th>\n",
       "      <th>Citizen</th>\n",
       "      <th>Unnamed: 9</th>\n",
       "      <th>...</th>\n",
       "      <th>FifteenK in Sec</th>\n",
       "      <th>TwentyK in Sec</th>\n",
       "      <th>HalfK in Sec</th>\n",
       "      <th>TwentyfiveK in Sec</th>\n",
       "      <th>ThirtyK in Sec</th>\n",
       "      <th>ThirtyFiveK in Sec</th>\n",
       "      <th>FortyK in Sec</th>\n",
       "      <th>Official Time in Sec</th>\n",
       "      <th>pace in sec/km</th>\n",
       "      <th>K-mean group</th>\n",
       "    </tr>\n",
       "  </thead>\n",
       "  <tbody>\n",
       "    <tr>\n",
       "      <th>0</th>\n",
       "      <td>0</td>\n",
       "      <td>11</td>\n",
       "      <td>Kirui, Geoffrey</td>\n",
       "      <td>24</td>\n",
       "      <td>M</td>\n",
       "      <td>Keringet</td>\n",
       "      <td>NaN</td>\n",
       "      <td>KEN</td>\n",
       "      <td>NaN</td>\n",
       "      <td>NaN</td>\n",
       "      <td>...</td>\n",
       "      <td>2744</td>\n",
       "      <td>3675</td>\n",
       "      <td>3875</td>\n",
       "      <td>4619</td>\n",
       "      <td>5581</td>\n",
       "      <td>6499</td>\n",
       "      <td>7373</td>\n",
       "      <td>7777</td>\n",
       "      <td>184.547703</td>\n",
       "      <td>4</td>\n",
       "    </tr>\n",
       "    <tr>\n",
       "      <th>1</th>\n",
       "      <td>1</td>\n",
       "      <td>17</td>\n",
       "      <td>Rupp, Galen</td>\n",
       "      <td>30</td>\n",
       "      <td>M</td>\n",
       "      <td>Portland</td>\n",
       "      <td>OR</td>\n",
       "      <td>USA</td>\n",
       "      <td>NaN</td>\n",
       "      <td>NaN</td>\n",
       "      <td>...</td>\n",
       "      <td>2744</td>\n",
       "      <td>3675</td>\n",
       "      <td>3875</td>\n",
       "      <td>4619</td>\n",
       "      <td>5581</td>\n",
       "      <td>6499</td>\n",
       "      <td>7394</td>\n",
       "      <td>7798</td>\n",
       "      <td>185.169076</td>\n",
       "      <td>4</td>\n",
       "    </tr>\n",
       "    <tr>\n",
       "      <th>2</th>\n",
       "      <td>2</td>\n",
       "      <td>23</td>\n",
       "      <td>Osako, Suguru</td>\n",
       "      <td>25</td>\n",
       "      <td>M</td>\n",
       "      <td>Machida-City</td>\n",
       "      <td>NaN</td>\n",
       "      <td>JPN</td>\n",
       "      <td>NaN</td>\n",
       "      <td>NaN</td>\n",
       "      <td>...</td>\n",
       "      <td>2744</td>\n",
       "      <td>3676</td>\n",
       "      <td>3876</td>\n",
       "      <td>4620</td>\n",
       "      <td>5581</td>\n",
       "      <td>6511</td>\n",
       "      <td>7418</td>\n",
       "      <td>7828</td>\n",
       "      <td>185.790448</td>\n",
       "      <td>4</td>\n",
       "    </tr>\n",
       "    <tr>\n",
       "      <th>3</th>\n",
       "      <td>3</td>\n",
       "      <td>21</td>\n",
       "      <td>Biwott, Shadrack</td>\n",
       "      <td>32</td>\n",
       "      <td>M</td>\n",
       "      <td>Mammoth Lakes</td>\n",
       "      <td>CA</td>\n",
       "      <td>USA</td>\n",
       "      <td>NaN</td>\n",
       "      <td>NaN</td>\n",
       "      <td>...</td>\n",
       "      <td>2744</td>\n",
       "      <td>3679</td>\n",
       "      <td>3885</td>\n",
       "      <td>4620</td>\n",
       "      <td>5581</td>\n",
       "      <td>6538</td>\n",
       "      <td>7475</td>\n",
       "      <td>7928</td>\n",
       "      <td>188.275939</td>\n",
       "      <td>4</td>\n",
       "    </tr>\n",
       "    <tr>\n",
       "      <th>4</th>\n",
       "      <td>4</td>\n",
       "      <td>9</td>\n",
       "      <td>Chebet, Wilson</td>\n",
       "      <td>31</td>\n",
       "      <td>M</td>\n",
       "      <td>Marakwet</td>\n",
       "      <td>NaN</td>\n",
       "      <td>KEN</td>\n",
       "      <td>NaN</td>\n",
       "      <td>NaN</td>\n",
       "      <td>...</td>\n",
       "      <td>2744</td>\n",
       "      <td>3675</td>\n",
       "      <td>3875</td>\n",
       "      <td>4619</td>\n",
       "      <td>5581</td>\n",
       "      <td>6521</td>\n",
       "      <td>7500</td>\n",
       "      <td>7955</td>\n",
       "      <td>188.897312</td>\n",
       "      <td>4</td>\n",
       "    </tr>\n",
       "  </tbody>\n",
       "</table>\n",
       "<p>5 rows × 37 columns</p>\n",
       "</div>"
      ],
      "text/plain": [
       "   Unnamed: 0 Bib              Name  Age M/F           City State Country  \\\n",
       "0           0  11   Kirui, Geoffrey   24   M       Keringet   NaN     KEN   \n",
       "1           1  17       Rupp, Galen   30   M       Portland    OR     USA   \n",
       "2           2  23     Osako, Suguru   25   M   Machida-City   NaN     JPN   \n",
       "3           3  21  Biwott, Shadrack   32   M  Mammoth Lakes    CA     USA   \n",
       "4           4   9    Chebet, Wilson   31   M       Marakwet   NaN     KEN   \n",
       "\n",
       "  Citizen Unnamed: 9     ...      FifteenK in Sec TwentyK in Sec HalfK in Sec  \\\n",
       "0     NaN        NaN     ...                 2744           3675         3875   \n",
       "1     NaN        NaN     ...                 2744           3675         3875   \n",
       "2     NaN        NaN     ...                 2744           3676         3876   \n",
       "3     NaN        NaN     ...                 2744           3679         3885   \n",
       "4     NaN        NaN     ...                 2744           3675         3875   \n",
       "\n",
       "  TwentyfiveK in Sec ThirtyK in Sec ThirtyFiveK in Sec FortyK in Sec  \\\n",
       "0               4619           5581               6499          7373   \n",
       "1               4619           5581               6499          7394   \n",
       "2               4620           5581               6511          7418   \n",
       "3               4620           5581               6538          7475   \n",
       "4               4619           5581               6521          7500   \n",
       "\n",
       "  Official Time in Sec pace in sec/km K-mean group  \n",
       "0                 7777     184.547703            4  \n",
       "1                 7798     185.169076            4  \n",
       "2                 7828     185.790448            4  \n",
       "3                 7928     188.275939            4  \n",
       "4                 7955     188.897312            4  \n",
       "\n",
       "[5 rows x 37 columns]"
      ]
     },
     "execution_count": 57,
     "metadata": {},
     "output_type": "execute_result"
    }
   ],
   "source": [
    "bostondrop['K-mean group'] = kmeans.labels_\n",
    "bostondrop.head(5)"
   ]
  },
  {
   "cell_type": "code",
   "execution_count": 58,
   "metadata": {},
   "outputs": [],
   "source": [
    "# Calculating pace of each stage\n",
    "bostondrop['Pace 0-5K'] = bostondrop.iloc[:,25]/5\n",
    "bostondrop['Pace 5-10K'] = (bostondrop.iloc[:,26]-bostondrop.iloc[:,25])/5\n",
    "bostondrop['Pace 10-15K'] = (bostondrop.iloc[:,27]-bostondrop.iloc[:,26])/5\n",
    "bostondrop['Pace 15-20K'] = (bostondrop.iloc[:,28]-bostondrop.iloc[:,27])/5\n",
    "bostondrop['Pace 20-25K'] = (bostondrop.iloc[:,30]-bostondrop.iloc[:,28])/5\n",
    "bostondrop['Pace 25-30K'] = (bostondrop.iloc[:,31]-bostondrop.iloc[:,30])/5\n",
    "bostondrop['Pace 30-35K'] = (bostondrop.iloc[:,32]-bostondrop.iloc[:,31])/5\n",
    "bostondrop['Pace 35-40K'] = (bostondrop.iloc[:,33]-bostondrop.iloc[:,32])/5\n",
    "bostondrop['Pace 40-FinK'] = (bostondrop.iloc[:,34]-bostondrop.iloc[:,33])/2.195"
   ]
  },
  {
   "cell_type": "code",
   "execution_count": 59,
   "metadata": {},
   "outputs": [
    {
     "data": {
      "text/html": [
       "<div>\n",
       "<style scoped>\n",
       "    .dataframe tbody tr th:only-of-type {\n",
       "        vertical-align: middle;\n",
       "    }\n",
       "\n",
       "    .dataframe tbody tr th {\n",
       "        vertical-align: top;\n",
       "    }\n",
       "\n",
       "    .dataframe thead th {\n",
       "        text-align: right;\n",
       "    }\n",
       "</style>\n",
       "<table border=\"1\" class=\"dataframe\">\n",
       "  <thead>\n",
       "    <tr style=\"text-align: right;\">\n",
       "      <th></th>\n",
       "      <th>Unnamed: 0</th>\n",
       "      <th>Bib</th>\n",
       "      <th>Name</th>\n",
       "      <th>Age</th>\n",
       "      <th>M/F</th>\n",
       "      <th>City</th>\n",
       "      <th>State</th>\n",
       "      <th>Country</th>\n",
       "      <th>Citizen</th>\n",
       "      <th>Unnamed: 9</th>\n",
       "      <th>...</th>\n",
       "      <th>K-mean group</th>\n",
       "      <th>Pace 0-5K</th>\n",
       "      <th>Pace 5-10K</th>\n",
       "      <th>Pace 10-15K</th>\n",
       "      <th>Pace 15-20K</th>\n",
       "      <th>Pace 20-25K</th>\n",
       "      <th>Pace 25-30K</th>\n",
       "      <th>Pace 30-35K</th>\n",
       "      <th>Pace 35-40K</th>\n",
       "      <th>Pace 40-FinK</th>\n",
       "    </tr>\n",
       "  </thead>\n",
       "  <tbody>\n",
       "    <tr>\n",
       "      <th>0</th>\n",
       "      <td>0</td>\n",
       "      <td>11</td>\n",
       "      <td>Kirui, Geoffrey</td>\n",
       "      <td>24</td>\n",
       "      <td>M</td>\n",
       "      <td>Keringet</td>\n",
       "      <td>NaN</td>\n",
       "      <td>KEN</td>\n",
       "      <td>NaN</td>\n",
       "      <td>NaN</td>\n",
       "      <td>...</td>\n",
       "      <td>4</td>\n",
       "      <td>185.0</td>\n",
       "      <td>180.6</td>\n",
       "      <td>183.2</td>\n",
       "      <td>186.2</td>\n",
       "      <td>188.8</td>\n",
       "      <td>192.4</td>\n",
       "      <td>183.6</td>\n",
       "      <td>174.8</td>\n",
       "      <td>184.054670</td>\n",
       "    </tr>\n",
       "    <tr>\n",
       "      <th>1</th>\n",
       "      <td>1</td>\n",
       "      <td>17</td>\n",
       "      <td>Rupp, Galen</td>\n",
       "      <td>30</td>\n",
       "      <td>M</td>\n",
       "      <td>Portland</td>\n",
       "      <td>OR</td>\n",
       "      <td>USA</td>\n",
       "      <td>NaN</td>\n",
       "      <td>NaN</td>\n",
       "      <td>...</td>\n",
       "      <td>4</td>\n",
       "      <td>184.8</td>\n",
       "      <td>180.6</td>\n",
       "      <td>183.4</td>\n",
       "      <td>186.2</td>\n",
       "      <td>188.8</td>\n",
       "      <td>192.4</td>\n",
       "      <td>183.6</td>\n",
       "      <td>179.0</td>\n",
       "      <td>184.054670</td>\n",
       "    </tr>\n",
       "    <tr>\n",
       "      <th>2</th>\n",
       "      <td>2</td>\n",
       "      <td>23</td>\n",
       "      <td>Osako, Suguru</td>\n",
       "      <td>25</td>\n",
       "      <td>M</td>\n",
       "      <td>Machida-City</td>\n",
       "      <td>NaN</td>\n",
       "      <td>JPN</td>\n",
       "      <td>NaN</td>\n",
       "      <td>NaN</td>\n",
       "      <td>...</td>\n",
       "      <td>4</td>\n",
       "      <td>185.0</td>\n",
       "      <td>180.8</td>\n",
       "      <td>183.0</td>\n",
       "      <td>186.4</td>\n",
       "      <td>188.8</td>\n",
       "      <td>192.2</td>\n",
       "      <td>186.0</td>\n",
       "      <td>181.4</td>\n",
       "      <td>186.788155</td>\n",
       "    </tr>\n",
       "  </tbody>\n",
       "</table>\n",
       "<p>3 rows × 46 columns</p>\n",
       "</div>"
      ],
      "text/plain": [
       "   Unnamed: 0 Bib             Name  Age M/F          City State Country  \\\n",
       "0           0  11  Kirui, Geoffrey   24   M      Keringet   NaN     KEN   \n",
       "1           1  17      Rupp, Galen   30   M      Portland    OR     USA   \n",
       "2           2  23    Osako, Suguru   25   M  Machida-City   NaN     JPN   \n",
       "\n",
       "  Citizen Unnamed: 9     ...      K-mean group Pace 0-5K Pace 5-10K  \\\n",
       "0     NaN        NaN     ...                 4     185.0      180.6   \n",
       "1     NaN        NaN     ...                 4     184.8      180.6   \n",
       "2     NaN        NaN     ...                 4     185.0      180.8   \n",
       "\n",
       "  Pace 10-15K Pace 15-20K Pace 20-25K Pace 25-30K Pace 30-35K Pace 35-40K  \\\n",
       "0       183.2       186.2       188.8       192.4       183.6       174.8   \n",
       "1       183.4       186.2       188.8       192.4       183.6       179.0   \n",
       "2       183.0       186.4       188.8       192.2       186.0       181.4   \n",
       "\n",
       "  Pace 40-FinK  \n",
       "0   184.054670  \n",
       "1   184.054670  \n",
       "2   186.788155  \n",
       "\n",
       "[3 rows x 46 columns]"
      ]
     },
     "execution_count": 59,
     "metadata": {},
     "output_type": "execute_result"
    }
   ],
   "source": [
    "bostondrop.head(3)"
   ]
  },
  {
   "cell_type": "code",
   "execution_count": 60,
   "metadata": {},
   "outputs": [
    {
     "data": {
      "text/plain": [
       "Index([u'Unnamed: 0', u'Bib', u'Name', u'Age', u'M/F', u'City', u'State',\n",
       "       u'Country', u'Citizen', u'Unnamed: 9', u'5K', u'10K', u'15K', u'20K',\n",
       "       u'Half', u'25K', u'30K', u'35K', u'40K', u'Pace', u'Proj Time',\n",
       "       u'Official Time', u'Overall', u'Gender', u'Division', u'FiveK in Sec',\n",
       "       u'TenK in Sec', u'FifteenK in Sec', u'TwentyK in Sec', u'HalfK in Sec',\n",
       "       u'TwentyfiveK in Sec', u'ThirtyK in Sec', u'ThirtyFiveK in Sec',\n",
       "       u'FortyK in Sec', u'Official Time in Sec', u'pace in sec/km',\n",
       "       u'K-mean group', u'Pace 0-5K', u'Pace 5-10K', u'Pace 10-15K',\n",
       "       u'Pace 15-20K', u'Pace 20-25K', u'Pace 25-30K', u'Pace 30-35K',\n",
       "       u'Pace 35-40K', u'Pace 40-FinK'],\n",
       "      dtype='object')"
      ]
     },
     "execution_count": 60,
     "metadata": {},
     "output_type": "execute_result"
    }
   ],
   "source": [
    "bostondrop.columns"
   ]
  },
  {
   "cell_type": "code",
   "execution_count": 96,
   "metadata": {},
   "outputs": [
    {
     "name": "stdout",
     "output_type": "stream",
     "text": [
      "(6822, 46)\n"
     ]
    }
   ],
   "source": [
    "#create running profile of time series vs km of group 0 people\n",
    "\n",
    "bostondrop0 = bostondrop.loc[bostondrop['K-mean group'] == 0]\n",
    "bostondrop0.head(5)\n",
    "print bostondrop0.shape"
   ]
  },
  {
   "cell_type": "code",
   "execution_count": 97,
   "metadata": {},
   "outputs": [
    {
     "name": "stdout",
     "output_type": "stream",
     "text": [
      "61398\n",
      "61398\n"
     ]
    }
   ],
   "source": [
    "import itertools\n",
    "Pace05K0 = bostondrop0['Pace 0-5K'].tolist()\n",
    "Pace510K0 = bostondrop0['Pace 5-10K'].tolist()\n",
    "Pace1015K0 = bostondrop0['Pace 10-15K'].tolist()\n",
    "Pace1520K0 = bostondrop0['Pace 15-20K'].tolist()\n",
    "Pace2025K0 = bostondrop0['Pace 20-25K'].tolist()\n",
    "Pace2530K0 = bostondrop0['Pace 25-30K'].tolist()\n",
    "Pace3035K0 = bostondrop0['Pace 30-35K'].tolist()\n",
    "Pace3540K0 = bostondrop0['Pace 35-40K'].tolist()\n",
    "Pace40FinK0 = bostondrop0['Pace 40-FinK'].tolist()\n",
    "\n",
    "mergedpace0 = Pace05K0+Pace510K0+Pace1015K0+Pace1520K0+Pace2025K0+Pace2530K0+Pace3035K0+Pace3540K0+Pace40FinK0\n",
    "km0 = (5,10,15,20,25,30,35,40,42.195) \n",
    "mergedkm0 = list(itertools.chain.from_iterable(itertools.repeat(x, 6822) for x in km0))\n",
    "\n",
    "print len(mergedpace0)\n",
    "print len(mergedkm0)"
   ]
  },
  {
   "cell_type": "code",
   "execution_count": 98,
   "metadata": {},
   "outputs": [
    {
     "name": "stderr",
     "output_type": "stream",
     "text": [
      "C:\\Users\\DELL\\Anaconda2\\lib\\site-packages\\ipykernel_launcher.py:4: FutureWarning: from_items is deprecated. Please use DataFrame.from_dict(dict(items), ...) instead. DataFrame.from_dict(OrderedDict(items)) may be used to preserve the key order.\n",
      "  after removing the cwd from sys.path.\n"
     ]
    },
    {
     "data": {
      "text/html": [
       "<div>\n",
       "<style scoped>\n",
       "    .dataframe tbody tr th:only-of-type {\n",
       "        vertical-align: middle;\n",
       "    }\n",
       "\n",
       "    .dataframe tbody tr th {\n",
       "        vertical-align: top;\n",
       "    }\n",
       "\n",
       "    .dataframe thead th {\n",
       "        text-align: right;\n",
       "    }\n",
       "</style>\n",
       "<table border=\"1\" class=\"dataframe\">\n",
       "  <thead>\n",
       "    <tr style=\"text-align: right;\">\n",
       "      <th></th>\n",
       "      <th>Distant in KM</th>\n",
       "      <th>Pace in Second/KM</th>\n",
       "    </tr>\n",
       "  </thead>\n",
       "  <tbody>\n",
       "    <tr>\n",
       "      <th>0</th>\n",
       "      <td>5.0</td>\n",
       "      <td>185.0</td>\n",
       "    </tr>\n",
       "    <tr>\n",
       "      <th>1</th>\n",
       "      <td>5.0</td>\n",
       "      <td>184.8</td>\n",
       "    </tr>\n",
       "    <tr>\n",
       "      <th>2</th>\n",
       "      <td>5.0</td>\n",
       "      <td>184.8</td>\n",
       "    </tr>\n",
       "  </tbody>\n",
       "</table>\n",
       "</div>"
      ],
      "text/plain": [
       "   Distant in KM  Pace in Second/KM\n",
       "0            5.0              185.0\n",
       "1            5.0              184.8\n",
       "2            5.0              184.8"
      ]
     },
     "execution_count": 98,
     "metadata": {},
     "output_type": "execute_result"
    }
   ],
   "source": [
    "# create dataframe\n",
    "\n",
    "runpace0 = [ ('Distant in KM',mergedkm0), ('Pace in Second/KM', mergedpace0)]\n",
    "runpacedf0 = pd.DataFrame.from_items(runpace0)\n",
    "runpacedf0.head(3)"
   ]
  },
  {
   "cell_type": "code",
   "execution_count": 99,
   "metadata": {
    "collapsed": true
   },
   "outputs": [
    {
     "name": "stdout",
     "output_type": "stream",
     "text": [
      "266.90195643507536\n",
      "[1.54099555]\n"
     ]
    }
   ],
   "source": [
    "#regression\n",
    "\n",
    "X0 = runpacedf0.iloc[:, :-1].values  \n",
    "y0 = runpacedf0.iloc[:, 1].values\n",
    "\n",
    "from sklearn.model_selection import train_test_split  \n",
    "X_train0, X_test0, y_train0, y_test0 = train_test_split(X0, y0, test_size=0.2, random_state=0)\n",
    "from sklearn.linear_model import LinearRegression  \n",
    "lm0 = LinearRegression()  \n",
    "lm0.fit(X_train0, y_train0) \n",
    "\n",
    "print(lm0.intercept_)\n",
    "print(lm0.coef_)"
   ]
  },
  {
   "cell_type": "code",
   "execution_count": 100,
   "metadata": {},
   "outputs": [
    {
     "data": {
      "text/html": [
       "<div>\n",
       "<style scoped>\n",
       "    .dataframe tbody tr th:only-of-type {\n",
       "        vertical-align: middle;\n",
       "    }\n",
       "\n",
       "    .dataframe tbody tr th {\n",
       "        vertical-align: top;\n",
       "    }\n",
       "\n",
       "    .dataframe thead th {\n",
       "        text-align: right;\n",
       "    }\n",
       "</style>\n",
       "<table border=\"1\" class=\"dataframe\">\n",
       "  <thead>\n",
       "    <tr style=\"text-align: right;\">\n",
       "      <th></th>\n",
       "      <th>Actual</th>\n",
       "      <th>Predicted</th>\n",
       "    </tr>\n",
       "  </thead>\n",
       "  <tbody>\n",
       "    <tr>\n",
       "      <th>0</th>\n",
       "      <td>326.4</td>\n",
       "      <td>320.836801</td>\n",
       "    </tr>\n",
       "    <tr>\n",
       "      <th>1</th>\n",
       "      <td>256.8</td>\n",
       "      <td>328.541778</td>\n",
       "    </tr>\n",
       "    <tr>\n",
       "      <th>2</th>\n",
       "      <td>285.4</td>\n",
       "      <td>282.311912</td>\n",
       "    </tr>\n",
       "    <tr>\n",
       "      <th>3</th>\n",
       "      <td>302.6</td>\n",
       "      <td>282.311912</td>\n",
       "    </tr>\n",
       "    <tr>\n",
       "      <th>4</th>\n",
       "      <td>271.8</td>\n",
       "      <td>297.721867</td>\n",
       "    </tr>\n",
       "  </tbody>\n",
       "</table>\n",
       "</div>"
      ],
      "text/plain": [
       "   Actual   Predicted\n",
       "0   326.4  320.836801\n",
       "1   256.8  328.541778\n",
       "2   285.4  282.311912\n",
       "3   302.6  282.311912\n",
       "4   271.8  297.721867"
      ]
     },
     "execution_count": 100,
     "metadata": {},
     "output_type": "execute_result"
    }
   ],
   "source": [
    "y_pred0 = lm0.predict(X_test0)  \n",
    "prediction0 = pd.DataFrame({'Actual': y_test0, 'Predicted': y_pred0})  \n",
    "prediction0.head(5)"
   ]
  },
  {
   "cell_type": "code",
   "execution_count": 101,
   "metadata": {},
   "outputs": [
    {
     "name": "stdout",
     "output_type": "stream",
     "text": [
      "('Mean Absolute Error:', 30.07170010756918)\n",
      "('Mean Squared Error:', 1531.5670934517314)\n",
      "('Root Mean Squared Error:', 39.135241068016065)\n"
     ]
    }
   ],
   "source": [
    "print('Mean Absolute Error:', metrics.mean_absolute_error(y_test0, y_pred0))  \n",
    "print('Mean Squared Error:', metrics.mean_squared_error(y_test0, y_pred0))  \n",
    "print('Root Mean Squared Error:', np.sqrt(metrics.mean_squared_error(y_test0, y_pred0)))\n"
   ]
  },
  {
   "cell_type": "code",
   "execution_count": null,
   "metadata": {},
   "outputs": [],
   "source": []
  },
  {
   "cell_type": "code",
   "execution_count": 103,
   "metadata": {},
   "outputs": [
    {
     "data": {
      "image/png": "[encoded data removed]",
      "text/plain": [
       "<Figure size 432x288 with 1 Axes>"
      ]
     },
     "metadata": {},
     "output_type": "display_data"
    }
   ],
   "source": [
    "plt.scatter(X_test0, y_test0,  color='skyblue')\n",
    "plt.plot(X_test0, y_pred0, color='grey', linewidth=1)\n",
    "\n",
    "plt.ylabel(\"Distant in KM\")\n",
    "plt.xlabel(\"Time in Second\")\n",
    "plt.title(\"Group0 Running Profile\")\n",
    "\n",
    "axes0 = plt.gca()\n",
    "axes0.set_ylim([0,1200])\n",
    "axes0.set_xlim([0,45])\n",
    "\n",
    "plt.show()"
   ]
  },
  {
   "cell_type": "code",
   "execution_count": 86,
   "metadata": {},
   "outputs": [
    {
     "name": "stdout",
     "output_type": "stream",
     "text": [
      "(6279, 46)\n"
     ]
    }
   ],
   "source": [
    "#create running profile of time series vs km of group 1 people\n",
    "\n",
    "bostondrop1 = bostondrop.loc[bostondrop['K-mean group'] == 1]\n",
    "bostondrop1.head(5)\n",
    "print bostondrop1.shape"
   ]
  },
  {
   "cell_type": "code",
   "execution_count": 88,
   "metadata": {},
   "outputs": [
    {
     "name": "stdout",
     "output_type": "stream",
     "text": [
      "56511\n",
      "56511\n"
     ]
    }
   ],
   "source": [
    "Pace05K1 = bostondrop1['Pace 0-5K'].tolist()\n",
    "Pace510K1 = bostondrop1['Pace 5-10K'].tolist()\n",
    "Pace1015K1 = bostondrop1['Pace 10-15K'].tolist()\n",
    "Pace1520K1 = bostondrop1['Pace 15-20K'].tolist()\n",
    "Pace2025K1 = bostondrop1['Pace 20-25K'].tolist()\n",
    "Pace2530K1 = bostondrop1['Pace 25-30K'].tolist()\n",
    "Pace3035K1 = bostondrop1['Pace 30-35K'].tolist()\n",
    "Pace3540K1 = bostondrop1['Pace 35-40K'].tolist()\n",
    "Pace40FinK1 = bostondrop1['Pace 40-FinK'].tolist()\n",
    "\n",
    "mergedpace1 = Pace05K1+Pace510K1+Pace1015K1+Pace1520K1+Pace2025K1+Pace2530K1+Pace3035K1+Pace3540K1+Pace40FinK1\n",
    "km1 = (5,10,15,20,25,30,35,40,42.195) \n",
    "mergedkm1 = list(itertools.chain.from_iterable(itertools.repeat(x, 6279) for x in km1))\n",
    "\n",
    "print len(mergedpace1)\n",
    "print len(mergedkm1)"
   ]
  },
  {
   "cell_type": "code",
   "execution_count": 89,
   "metadata": {},
   "outputs": [
    {
     "name": "stderr",
     "output_type": "stream",
     "text": [
      "C:\\Users\\DELL\\Anaconda2\\lib\\site-packages\\ipykernel_launcher.py:4: FutureWarning: from_items is deprecated. Please use DataFrame.from_dict(dict(items), ...) instead. DataFrame.from_dict(OrderedDict(items)) may be used to preserve the key order.\n",
      "  after removing the cwd from sys.path.\n"
     ]
    },
    {
     "data": {
      "text/html": [
       "<div>\n",
       "<style scoped>\n",
       "    .dataframe tbody tr th:only-of-type {\n",
       "        vertical-align: middle;\n",
       "    }\n",
       "\n",
       "    .dataframe tbody tr th {\n",
       "        vertical-align: top;\n",
       "    }\n",
       "\n",
       "    .dataframe thead th {\n",
       "        text-align: right;\n",
       "    }\n",
       "</style>\n",
       "<table border=\"1\" class=\"dataframe\">\n",
       "  <thead>\n",
       "    <tr style=\"text-align: right;\">\n",
       "      <th></th>\n",
       "      <th>Distant in KM</th>\n",
       "      <th>Pace in Second/KM</th>\n",
       "    </tr>\n",
       "  </thead>\n",
       "  <tbody>\n",
       "    <tr>\n",
       "      <th>0</th>\n",
       "      <td>5.0</td>\n",
       "      <td>226.6</td>\n",
       "    </tr>\n",
       "    <tr>\n",
       "      <th>1</th>\n",
       "      <td>5.0</td>\n",
       "      <td>209.2</td>\n",
       "    </tr>\n",
       "    <tr>\n",
       "      <th>2</th>\n",
       "      <td>5.0</td>\n",
       "      <td>233.4</td>\n",
       "    </tr>\n",
       "  </tbody>\n",
       "</table>\n",
       "</div>"
      ],
      "text/plain": [
       "   Distant in KM  Pace in Second/KM\n",
       "0            5.0              226.6\n",
       "1            5.0              209.2\n",
       "2            5.0              233.4"
      ]
     },
     "execution_count": 89,
     "metadata": {},
     "output_type": "execute_result"
    }
   ],
   "source": [
    "# create dataframe\n",
    "\n",
    "runpace1 = [ ('Distant in KM',mergedkm1), ('Pace in Second/KM', mergedpace1)]\n",
    "runpacedf1 = pd.DataFrame.from_items(runpace1)\n",
    "runpacedf1.head(3)"
   ]
  },
  {
   "cell_type": "code",
   "execution_count": 90,
   "metadata": {},
   "outputs": [
    {
     "name": "stdout",
     "output_type": "stream",
     "text": [
      "282.3528685173633\n",
      "[1.75207326]\n"
     ]
    }
   ],
   "source": [
    "#regression\n",
    "\n",
    "X1 = runpacedf1.iloc[:, :-1].values  \n",
    "y1 = runpacedf1.iloc[:, 1].values\n",
    "\n",
    "from sklearn.model_selection import train_test_split  \n",
    "X_train1, X_test1, y_train1, y_test1 = train_test_split(X1, y1, test_size=0.2, random_state=0)\n",
    "from sklearn.linear_model import LinearRegression  \n",
    "lm1 = LinearRegression()  \n",
    "lm1.fit(X_train1, y_train1) \n",
    "\n",
    "print(lm1.intercept_)\n",
    "print(lm1.coef_)"
   ]
  },
  {
   "cell_type": "code",
   "execution_count": 91,
   "metadata": {},
   "outputs": [
    {
     "data": {
      "text/html": [
       "<div>\n",
       "<style scoped>\n",
       "    .dataframe tbody tr th:only-of-type {\n",
       "        vertical-align: middle;\n",
       "    }\n",
       "\n",
       "    .dataframe tbody tr th {\n",
       "        vertical-align: top;\n",
       "    }\n",
       "\n",
       "    .dataframe thead th {\n",
       "        text-align: right;\n",
       "    }\n",
       "</style>\n",
       "<table border=\"1\" class=\"dataframe\">\n",
       "  <thead>\n",
       "    <tr style=\"text-align: right;\">\n",
       "      <th></th>\n",
       "      <th>Actual</th>\n",
       "      <th>Predicted</th>\n",
       "    </tr>\n",
       "  </thead>\n",
       "  <tbody>\n",
       "    <tr>\n",
       "      <th>0</th>\n",
       "      <td>267.2</td>\n",
       "      <td>334.915066</td>\n",
       "    </tr>\n",
       "    <tr>\n",
       "      <th>1</th>\n",
       "      <td>359.6</td>\n",
       "      <td>334.915066</td>\n",
       "    </tr>\n",
       "    <tr>\n",
       "      <th>2</th>\n",
       "      <td>317.0</td>\n",
       "      <td>308.633967</td>\n",
       "    </tr>\n",
       "    <tr>\n",
       "      <th>3</th>\n",
       "      <td>284.2</td>\n",
       "      <td>326.154700</td>\n",
       "    </tr>\n",
       "    <tr>\n",
       "      <th>4</th>\n",
       "      <td>315.0</td>\n",
       "      <td>352.435799</td>\n",
       "    </tr>\n",
       "  </tbody>\n",
       "</table>\n",
       "</div>"
      ],
      "text/plain": [
       "   Actual   Predicted\n",
       "0   267.2  334.915066\n",
       "1   359.6  334.915066\n",
       "2   317.0  308.633967\n",
       "3   284.2  326.154700\n",
       "4   315.0  352.435799"
      ]
     },
     "execution_count": 91,
     "metadata": {},
     "output_type": "execute_result"
    }
   ],
   "source": [
    "y_pred1 = lm1.predict(X_test1)  \n",
    "prediction1 = pd.DataFrame({'Actual': y_test1, 'Predicted': y_pred1})  \n",
    "prediction1.head(5)"
   ]
  },
  {
   "cell_type": "code",
   "execution_count": null,
   "metadata": {},
   "outputs": [],
   "source": []
  },
  {
   "cell_type": "code",
   "execution_count": 123,
   "metadata": {},
   "outputs": [
    {
     "data": {
      "image/png": "[encoded data removed]",
      "text/plain": [
       "<Figure size 432x288 with 1 Axes>"
      ]
     },
     "metadata": {},
     "output_type": "display_data"
    }
   ],
   "source": [
    "plt.scatter(X_test1, y_test1,  color='thistle')\n",
    "plt.plot(X_test1, y_pred1, color='grey', linewidth=1)\n",
    "\n",
    "plt.ylabel(\"Distant in KM\")\n",
    "plt.xlabel(\"Time in Second\")\n",
    "plt.title(\"Group1 Running Profile\")\n",
    "\n",
    "axes1 = plt.gca()\n",
    "axes1.set_ylim([0,1200])\n",
    "axes1.set_xlim([0,45])\n",
    "\n",
    "plt.show()"
   ]
  },
  {
   "cell_type": "code",
   "execution_count": 104,
   "metadata": {},
   "outputs": [
    {
     "name": "stdout",
     "output_type": "stream",
     "text": [
      "(3036, 46)\n"
     ]
    }
   ],
   "source": [
    "#create running profile of time series vs km of group 2 people\n",
    "\n",
    "bostondrop2 = bostondrop.loc[bostondrop['K-mean group'] == 2]\n",
    "bostondrop2.head(5)\n",
    "print bostondrop2.shape"
   ]
  },
  {
   "cell_type": "code",
   "execution_count": 105,
   "metadata": {},
   "outputs": [
    {
     "name": "stdout",
     "output_type": "stream",
     "text": [
      "27324\n",
      "27324\n"
     ]
    }
   ],
   "source": [
    "Pace05K2 = bostondrop2['Pace 0-5K'].tolist()\n",
    "Pace510K2 = bostondrop2['Pace 5-10K'].tolist()\n",
    "Pace1015K2 = bostondrop2['Pace 10-15K'].tolist()\n",
    "Pace1520K2 = bostondrop2['Pace 15-20K'].tolist()\n",
    "Pace2025K2 = bostondrop2['Pace 20-25K'].tolist()\n",
    "Pace2530K2 = bostondrop2['Pace 25-30K'].tolist()\n",
    "Pace3035K2 = bostondrop2['Pace 30-35K'].tolist()\n",
    "Pace3540K2 = bostondrop2['Pace 35-40K'].tolist()\n",
    "Pace40FinK2 = bostondrop2['Pace 40-FinK'].tolist()\n",
    "\n",
    "mergedpace2 = Pace05K2+Pace510K2+Pace1015K2+Pace1520K2+Pace2025K2+Pace2530K2+Pace3035K2+Pace3540K2+Pace40FinK2\n",
    "km2 = (5,10,15,20,25,30,35,40,42.195) \n",
    "mergedkm2 = list(itertools.chain.from_iterable(itertools.repeat(x, 3036) for x in km2))\n",
    "\n",
    "print len(mergedpace2)\n",
    "print len(mergedkm2)"
   ]
  },
  {
   "cell_type": "code",
   "execution_count": 106,
   "metadata": {},
   "outputs": [
    {
     "name": "stderr",
     "output_type": "stream",
     "text": [
      "C:\\Users\\DELL\\Anaconda2\\lib\\site-packages\\ipykernel_launcher.py:4: FutureWarning: from_items is deprecated. Please use DataFrame.from_dict(dict(items), ...) instead. DataFrame.from_dict(OrderedDict(items)) may be used to preserve the key order.\n",
      "  after removing the cwd from sys.path.\n"
     ]
    },
    {
     "data": {
      "text/html": [
       "<div>\n",
       "<style scoped>\n",
       "    .dataframe tbody tr th:only-of-type {\n",
       "        vertical-align: middle;\n",
       "    }\n",
       "\n",
       "    .dataframe tbody tr th {\n",
       "        vertical-align: top;\n",
       "    }\n",
       "\n",
       "    .dataframe thead th {\n",
       "        text-align: right;\n",
       "    }\n",
       "</style>\n",
       "<table border=\"1\" class=\"dataframe\">\n",
       "  <thead>\n",
       "    <tr style=\"text-align: right;\">\n",
       "      <th></th>\n",
       "      <th>Distant in KM</th>\n",
       "      <th>Pace in Second/KM</th>\n",
       "    </tr>\n",
       "  </thead>\n",
       "  <tbody>\n",
       "    <tr>\n",
       "      <th>0</th>\n",
       "      <td>5.0</td>\n",
       "      <td>261.6</td>\n",
       "    </tr>\n",
       "    <tr>\n",
       "      <th>1</th>\n",
       "      <td>5.0</td>\n",
       "      <td>255.0</td>\n",
       "    </tr>\n",
       "    <tr>\n",
       "      <th>2</th>\n",
       "      <td>5.0</td>\n",
       "      <td>273.0</td>\n",
       "    </tr>\n",
       "  </tbody>\n",
       "</table>\n",
       "</div>"
      ],
      "text/plain": [
       "   Distant in KM  Pace in Second/KM\n",
       "0            5.0              261.6\n",
       "1            5.0              255.0\n",
       "2            5.0              273.0"
      ]
     },
     "execution_count": 106,
     "metadata": {},
     "output_type": "execute_result"
    }
   ],
   "source": [
    "# create dataframe\n",
    "\n",
    "runpace2 = [ ('Distant in KM',mergedkm2), ('Pace in Second/KM', mergedpace2)]\n",
    "runpacedf2 = pd.DataFrame.from_items(runpace2)\n",
    "runpacedf2.head(3)"
   ]
  },
  {
   "cell_type": "code",
   "execution_count": 107,
   "metadata": {},
   "outputs": [
    {
     "name": "stdout",
     "output_type": "stream",
     "text": [
      "322.16857657339403\n",
      "[2.76907927]\n"
     ]
    }
   ],
   "source": [
    "#regression\n",
    "\n",
    "X2 = runpacedf2.iloc[:, :-1].values  \n",
    "y2 = runpacedf2.iloc[:, 1].values\n",
    "\n",
    "from sklearn.model_selection import train_test_split  \n",
    "X_train2, X_test2, y_train2, y_test2 = train_test_split(X2, y2, test_size=0.2, random_state=0)\n",
    "from sklearn.linear_model import LinearRegression  \n",
    "lm2 = LinearRegression()  \n",
    "lm2.fit(X_train2, y_train2) \n",
    "\n",
    "print(lm2.intercept_)\n",
    "print(lm2.coef_)"
   ]
  },
  {
   "cell_type": "code",
   "execution_count": 109,
   "metadata": {},
   "outputs": [
    {
     "data": {
      "text/html": [
       "<div>\n",
       "<style scoped>\n",
       "    .dataframe tbody tr th:only-of-type {\n",
       "        vertical-align: middle;\n",
       "    }\n",
       "\n",
       "    .dataframe tbody tr th {\n",
       "        vertical-align: top;\n",
       "    }\n",
       "\n",
       "    .dataframe thead th {\n",
       "        text-align: right;\n",
       "    }\n",
       "</style>\n",
       "<table border=\"1\" class=\"dataframe\">\n",
       "  <thead>\n",
       "    <tr style=\"text-align: right;\">\n",
       "      <th></th>\n",
       "      <th>Actual</th>\n",
       "      <th>Predicted</th>\n",
       "    </tr>\n",
       "  </thead>\n",
       "  <tbody>\n",
       "    <tr>\n",
       "      <th>0</th>\n",
       "      <td>399.800000</td>\n",
       "      <td>391.395558</td>\n",
       "    </tr>\n",
       "    <tr>\n",
       "      <th>1</th>\n",
       "      <td>354.400000</td>\n",
       "      <td>419.086351</td>\n",
       "    </tr>\n",
       "    <tr>\n",
       "      <th>2</th>\n",
       "      <td>337.400000</td>\n",
       "      <td>363.704766</td>\n",
       "    </tr>\n",
       "    <tr>\n",
       "      <th>3</th>\n",
       "      <td>536.218679</td>\n",
       "      <td>439.009876</td>\n",
       "    </tr>\n",
       "    <tr>\n",
       "      <th>4</th>\n",
       "      <td>326.400000</td>\n",
       "      <td>336.013973</td>\n",
       "    </tr>\n",
       "  </tbody>\n",
       "</table>\n",
       "</div>"
      ],
      "text/plain": [
       "       Actual   Predicted\n",
       "0  399.800000  391.395558\n",
       "1  354.400000  419.086351\n",
       "2  337.400000  363.704766\n",
       "3  536.218679  439.009876\n",
       "4  326.400000  336.013973"
      ]
     },
     "execution_count": 109,
     "metadata": {},
     "output_type": "execute_result"
    }
   ],
   "source": [
    "y_pred2 = lm2.predict(X_test2)  \n",
    "prediction2 = pd.DataFrame({'Actual': y_test2, 'Predicted': y_pred2})  \n",
    "prediction2.head(5)"
   ]
  },
  {
   "cell_type": "code",
   "execution_count": null,
   "metadata": {},
   "outputs": [],
   "source": []
  },
  {
   "cell_type": "code",
   "execution_count": 122,
   "metadata": {},
   "outputs": [
    {
     "data": {
      "image/png": "[encoded data removed]",
      "text/plain": [
       "<Figure size 432x288 with 1 Axes>"
      ]
     },
     "metadata": {},
     "output_type": "display_data"
    }
   ],
   "source": [
    "plt.scatter(X_test2, y_test2,  color='steelblue')\n",
    "plt.plot(X_test2, y_pred2, color='grey', linewidth=1)\n",
    "\n",
    "plt.ylabel(\"Distant in KM\")\n",
    "plt.xlabel(\"Time in Second\")\n",
    "plt.title(\"Group2 Running Profile\")\n",
    "\n",
    "axes2 = plt.gca()\n",
    "axes2.set_ylim([0,1200])\n",
    "axes2.set_xlim([0,45])\n",
    "\n",
    "plt.show()"
   ]
  },
  {
   "cell_type": "code",
   "execution_count": 113,
   "metadata": {},
   "outputs": [
    {
     "name": "stdout",
     "output_type": "stream",
     "text": [
      "(2741, 46)\n"
     ]
    }
   ],
   "source": [
    "#create running profile of time series vs km of group 3 people\n",
    "\n",
    "bostondrop3 = bostondrop.loc[bostondrop['K-mean group'] == 3]\n",
    "bostondrop3.head(5)\n",
    "print bostondrop3.shape"
   ]
  },
  {
   "cell_type": "code",
   "execution_count": 114,
   "metadata": {},
   "outputs": [
    {
     "name": "stdout",
     "output_type": "stream",
     "text": [
      "24669\n",
      "24669\n"
     ]
    }
   ],
   "source": [
    "Pace05K3 = bostondrop3['Pace 0-5K'].tolist()\n",
    "Pace510K3 = bostondrop3['Pace 5-10K'].tolist()\n",
    "Pace1015K3 = bostondrop3['Pace 10-15K'].tolist()\n",
    "Pace1520K3 = bostondrop3['Pace 15-20K'].tolist()\n",
    "Pace2025K3 = bostondrop3['Pace 20-25K'].tolist()\n",
    "Pace2530K3 = bostondrop3['Pace 25-30K'].tolist()\n",
    "Pace3035K3 = bostondrop3['Pace 30-35K'].tolist()\n",
    "Pace3540K3 = bostondrop3['Pace 35-40K'].tolist()\n",
    "Pace40FinK3 = bostondrop3['Pace 40-FinK'].tolist()\n",
    "\n",
    "mergedpace3 = Pace05K3+Pace510K3+Pace1015K3+Pace1520K3+Pace2025K3+Pace2530K3+Pace3035K3+Pace3540K3+Pace40FinK3\n",
    "km3 = (5,10,15,20,25,30,35,40,42.195) \n",
    "mergedkm3 = list(itertools.chain.from_iterable(itertools.repeat(x, 2741) for x in km3))\n",
    "\n",
    "print len(mergedpace3)\n",
    "print len(mergedkm3)"
   ]
  },
  {
   "cell_type": "code",
   "execution_count": 115,
   "metadata": {},
   "outputs": [
    {
     "name": "stderr",
     "output_type": "stream",
     "text": [
      "C:\\Users\\DELL\\Anaconda2\\lib\\site-packages\\ipykernel_launcher.py:4: FutureWarning: from_items is deprecated. Please use DataFrame.from_dict(dict(items), ...) instead. DataFrame.from_dict(OrderedDict(items)) may be used to preserve the key order.\n",
      "  after removing the cwd from sys.path.\n"
     ]
    },
    {
     "data": {
      "text/html": [
       "<div>\n",
       "<style scoped>\n",
       "    .dataframe tbody tr th:only-of-type {\n",
       "        vertical-align: middle;\n",
       "    }\n",
       "\n",
       "    .dataframe tbody tr th {\n",
       "        vertical-align: top;\n",
       "    }\n",
       "\n",
       "    .dataframe thead th {\n",
       "        text-align: right;\n",
       "    }\n",
       "</style>\n",
       "<table border=\"1\" class=\"dataframe\">\n",
       "  <thead>\n",
       "    <tr style=\"text-align: right;\">\n",
       "      <th></th>\n",
       "      <th>Distant in KM</th>\n",
       "      <th>Pace in Second/KM</th>\n",
       "    </tr>\n",
       "  </thead>\n",
       "  <tbody>\n",
       "    <tr>\n",
       "      <th>0</th>\n",
       "      <td>5.0</td>\n",
       "      <td>341.0</td>\n",
       "    </tr>\n",
       "    <tr>\n",
       "      <th>1</th>\n",
       "      <td>5.0</td>\n",
       "      <td>336.6</td>\n",
       "    </tr>\n",
       "    <tr>\n",
       "      <th>2</th>\n",
       "      <td>5.0</td>\n",
       "      <td>327.4</td>\n",
       "    </tr>\n",
       "  </tbody>\n",
       "</table>\n",
       "</div>"
      ],
      "text/plain": [
       "   Distant in KM  Pace in Second/KM\n",
       "0            5.0              341.0\n",
       "1            5.0              336.6\n",
       "2            5.0              327.4"
      ]
     },
     "execution_count": 115,
     "metadata": {},
     "output_type": "execute_result"
    }
   ],
   "source": [
    "# create dataframe\n",
    "\n",
    "runpace3 = [ ('Distant in KM',mergedkm3), ('Pace in Second/KM', mergedpace3)]\n",
    "runpacedf3 = pd.DataFrame.from_items(runpace3)\n",
    "runpacedf3.head(3)"
   ]
  },
  {
   "cell_type": "code",
   "execution_count": 117,
   "metadata": {},
   "outputs": [
    {
     "name": "stdout",
     "output_type": "stream",
     "text": [
      "346.377191321401\n",
      "[3.18662628]\n"
     ]
    }
   ],
   "source": [
    "#regression\n",
    "\n",
    "X3 = runpacedf3.iloc[:, :-1].values  \n",
    "y3 = runpacedf3.iloc[:, 1].values\n",
    "\n",
    "from sklearn.model_selection import train_test_split  \n",
    "X_train3, X_test3, y_train3, y_test3 = train_test_split(X3, y3, test_size=0.2, random_state=0)\n",
    "from sklearn.linear_model import LinearRegression  \n",
    "lm3 = LinearRegression()  \n",
    "lm3.fit(X_train3, y_train3) \n",
    "\n",
    "print(lm3.intercept_)\n",
    "print(lm3.coef_)"
   ]
  },
  {
   "cell_type": "code",
   "execution_count": 118,
   "metadata": {},
   "outputs": [
    {
     "data": {
      "text/html": [
       "<div>\n",
       "<style scoped>\n",
       "    .dataframe tbody tr th:only-of-type {\n",
       "        vertical-align: middle;\n",
       "    }\n",
       "\n",
       "    .dataframe tbody tr th {\n",
       "        vertical-align: top;\n",
       "    }\n",
       "\n",
       "    .dataframe thead th {\n",
       "        text-align: right;\n",
       "    }\n",
       "</style>\n",
       "<table border=\"1\" class=\"dataframe\">\n",
       "  <thead>\n",
       "    <tr style=\"text-align: right;\">\n",
       "      <th></th>\n",
       "      <th>Actual</th>\n",
       "      <th>Predicted</th>\n",
       "    </tr>\n",
       "  </thead>\n",
       "  <tbody>\n",
       "    <tr>\n",
       "      <th>0</th>\n",
       "      <td>526.2</td>\n",
       "      <td>426.042848</td>\n",
       "    </tr>\n",
       "    <tr>\n",
       "      <th>1</th>\n",
       "      <td>407.8</td>\n",
       "      <td>426.042848</td>\n",
       "    </tr>\n",
       "    <tr>\n",
       "      <th>2</th>\n",
       "      <td>409.8</td>\n",
       "      <td>410.109717</td>\n",
       "    </tr>\n",
       "    <tr>\n",
       "      <th>3</th>\n",
       "      <td>362.0</td>\n",
       "      <td>410.109717</td>\n",
       "    </tr>\n",
       "    <tr>\n",
       "      <th>4</th>\n",
       "      <td>374.8</td>\n",
       "      <td>473.842243</td>\n",
       "    </tr>\n",
       "  </tbody>\n",
       "</table>\n",
       "</div>"
      ],
      "text/plain": [
       "   Actual   Predicted\n",
       "0   526.2  426.042848\n",
       "1   407.8  426.042848\n",
       "2   409.8  410.109717\n",
       "3   362.0  410.109717\n",
       "4   374.8  473.842243"
      ]
     },
     "execution_count": 118,
     "metadata": {},
     "output_type": "execute_result"
    }
   ],
   "source": [
    "y_pred3 = lm3.predict(X_test3)  \n",
    "prediction3 = pd.DataFrame({'Actual': y_test3, 'Predicted': y_pred3})  \n",
    "prediction3.head(5)"
   ]
  },
  {
   "cell_type": "code",
   "execution_count": null,
   "metadata": {},
   "outputs": [],
   "source": []
  },
  {
   "cell_type": "code",
   "execution_count": 121,
   "metadata": {},
   "outputs": [
    {
     "data": {
      "image/png": "[encoded data removed]",
      "text/plain": [
       "<Figure size 432x288 with 1 Axes>"
      ]
     },
     "metadata": {},
     "output_type": "display_data"
    }
   ],
   "source": [
    "plt.scatter(X_test3, y_test3,  color='pink')\n",
    "plt.plot(X_test3, y_pred3, color='grey', linewidth=1)\n",
    "\n",
    "plt.ylabel(\"Distant in KM\")\n",
    "plt.xlabel(\"Time in Second\")\n",
    "plt.title(\"Group3 Running Profile\")\n",
    "\n",
    "axes3 = plt.gca()\n",
    "axes3.set_ylim([0,1200])\n",
    "axes3.set_xlim([0,45])\n",
    "\n",
    "plt.show()"
   ]
  },
  {
   "cell_type": "code",
   "execution_count": 124,
   "metadata": {},
   "outputs": [
    {
     "name": "stdout",
     "output_type": "stream",
     "text": [
      "(4900, 46)\n"
     ]
    }
   ],
   "source": [
    "#create running profile of time series vs km of group 4 people\n",
    "\n",
    "bostondrop4 = bostondrop.loc[bostondrop['K-mean group'] == 4]\n",
    "bostondrop4.head(5)\n",
    "print bostondrop4.shape"
   ]
  },
  {
   "cell_type": "code",
   "execution_count": 125,
   "metadata": {},
   "outputs": [
    {
     "name": "stdout",
     "output_type": "stream",
     "text": [
      "44100\n",
      "44100\n"
     ]
    }
   ],
   "source": [
    "Pace05K4 = bostondrop4['Pace 0-5K'].tolist()\n",
    "Pace510K4 = bostondrop4['Pace 5-10K'].tolist()\n",
    "Pace1015K4 = bostondrop4['Pace 10-15K'].tolist()\n",
    "Pace1520K4 = bostondrop4['Pace 15-20K'].tolist()\n",
    "Pace2025K4 = bostondrop4['Pace 20-25K'].tolist()\n",
    "Pace2530K4 = bostondrop4['Pace 25-30K'].tolist()\n",
    "Pace3035K4 = bostondrop4['Pace 30-35K'].tolist()\n",
    "Pace3540K4 = bostondrop4['Pace 35-40K'].tolist()\n",
    "Pace40FinK4 = bostondrop4['Pace 40-FinK'].tolist()\n",
    "\n",
    "mergedpace4 = Pace05K4+Pace510K4+Pace1015K4+Pace1520K4+Pace2025K4+Pace2530K4+Pace3035K4+Pace3540K4+Pace40FinK4\n",
    "km4 = (5,10,15,20,25,30,35,40,42.195) \n",
    "mergedkm4 = list(itertools.chain.from_iterable(itertools.repeat(x, 4900) for x in km4))\n",
    "\n",
    "print len(mergedpace4)\n",
    "print len(mergedkm4)"
   ]
  },
  {
   "cell_type": "code",
   "execution_count": 126,
   "metadata": {},
   "outputs": [
    {
     "name": "stderr",
     "output_type": "stream",
     "text": [
      "C:\\Users\\DELL\\Anaconda2\\lib\\site-packages\\ipykernel_launcher.py:4: FutureWarning: from_items is deprecated. Please use DataFrame.from_dict(dict(items), ...) instead. DataFrame.from_dict(OrderedDict(items)) may be used to preserve the key order.\n",
      "  after removing the cwd from sys.path.\n"
     ]
    },
    {
     "data": {
      "text/html": [
       "<div>\n",
       "<style scoped>\n",
       "    .dataframe tbody tr th:only-of-type {\n",
       "        vertical-align: middle;\n",
       "    }\n",
       "\n",
       "    .dataframe tbody tr th {\n",
       "        vertical-align: top;\n",
       "    }\n",
       "\n",
       "    .dataframe thead th {\n",
       "        text-align: right;\n",
       "    }\n",
       "</style>\n",
       "<table border=\"1\" class=\"dataframe\">\n",
       "  <thead>\n",
       "    <tr style=\"text-align: right;\">\n",
       "      <th></th>\n",
       "      <th>Distant in KM</th>\n",
       "      <th>Pace in Second/KM</th>\n",
       "    </tr>\n",
       "  </thead>\n",
       "  <tbody>\n",
       "    <tr>\n",
       "      <th>0</th>\n",
       "      <td>5.0</td>\n",
       "      <td>185.0</td>\n",
       "    </tr>\n",
       "    <tr>\n",
       "      <th>1</th>\n",
       "      <td>5.0</td>\n",
       "      <td>184.8</td>\n",
       "    </tr>\n",
       "    <tr>\n",
       "      <th>2</th>\n",
       "      <td>5.0</td>\n",
       "      <td>185.0</td>\n",
       "    </tr>\n",
       "  </tbody>\n",
       "</table>\n",
       "</div>"
      ],
      "text/plain": [
       "   Distant in KM  Pace in Second/KM\n",
       "0            5.0              185.0\n",
       "1            5.0              184.8\n",
       "2            5.0              185.0"
      ]
     },
     "execution_count": 126,
     "metadata": {},
     "output_type": "execute_result"
    }
   ],
   "source": [
    "# create dataframe\n",
    "\n",
    "runpace4 = [ ('Distant in KM',mergedkm4), ('Pace in Second/KM', mergedpace4)]\n",
    "runpacedf4 = pd.DataFrame.from_items(runpace4)\n",
    "runpacedf4.head(3)"
   ]
  },
  {
   "cell_type": "code",
   "execution_count": 127,
   "metadata": {},
   "outputs": [
    {
     "name": "stdout",
     "output_type": "stream",
     "text": [
      "255.19225683420862\n",
      "[1.47127195]\n"
     ]
    }
   ],
   "source": [
    "#regression\n",
    "\n",
    "X4 = runpacedf4.iloc[:, :-1].values  \n",
    "y4 = runpacedf4.iloc[:, 1].values\n",
    "\n",
    "from sklearn.model_selection import train_test_split  \n",
    "X_train4, X_test4, y_train4, y_test4 = train_test_split(X4, y4, test_size=0.2, random_state=0)\n",
    "from sklearn.linear_model import LinearRegression  \n",
    "lm4 = LinearRegression()  \n",
    "lm4.fit(X_train4, y_train4) \n",
    "\n",
    "print(lm4.intercept_)\n",
    "print(lm4.coef_)"
   ]
  },
  {
   "cell_type": "code",
   "execution_count": 128,
   "metadata": {},
   "outputs": [
    {
     "data": {
      "text/html": [
       "<div>\n",
       "<style scoped>\n",
       "    .dataframe tbody tr th:only-of-type {\n",
       "        vertical-align: middle;\n",
       "    }\n",
       "\n",
       "    .dataframe tbody tr th {\n",
       "        vertical-align: top;\n",
       "    }\n",
       "\n",
       "    .dataframe thead th {\n",
       "        text-align: right;\n",
       "    }\n",
       "</style>\n",
       "<table border=\"1\" class=\"dataframe\">\n",
       "  <thead>\n",
       "    <tr style=\"text-align: right;\">\n",
       "      <th></th>\n",
       "      <th>Actual</th>\n",
       "      <th>Predicted</th>\n",
       "    </tr>\n",
       "  </thead>\n",
       "  <tbody>\n",
       "    <tr>\n",
       "      <th>0</th>\n",
       "      <td>281.0</td>\n",
       "      <td>284.617696</td>\n",
       "    </tr>\n",
       "    <tr>\n",
       "      <th>1</th>\n",
       "      <td>330.2</td>\n",
       "      <td>277.261336</td>\n",
       "    </tr>\n",
       "    <tr>\n",
       "      <th>2</th>\n",
       "      <td>270.8</td>\n",
       "      <td>262.548617</td>\n",
       "    </tr>\n",
       "    <tr>\n",
       "      <th>3</th>\n",
       "      <td>280.2</td>\n",
       "      <td>314.043135</td>\n",
       "    </tr>\n",
       "    <tr>\n",
       "      <th>4</th>\n",
       "      <td>325.0</td>\n",
       "      <td>284.617696</td>\n",
       "    </tr>\n",
       "  </tbody>\n",
       "</table>\n",
       "</div>"
      ],
      "text/plain": [
       "   Actual   Predicted\n",
       "0   281.0  284.617696\n",
       "1   330.2  277.261336\n",
       "2   270.8  262.548617\n",
       "3   280.2  314.043135\n",
       "4   325.0  284.617696"
      ]
     },
     "execution_count": 128,
     "metadata": {},
     "output_type": "execute_result"
    }
   ],
   "source": [
    "y_pred4 = lm4.predict(X_test4)  \n",
    "prediction4 = pd.DataFrame({'Actual': y_test4, 'Predicted': y_pred4})  \n",
    "prediction4.head(5)"
   ]
  },
  {
   "cell_type": "code",
   "execution_count": null,
   "metadata": {},
   "outputs": [],
   "source": []
  },
  {
   "cell_type": "code",
   "execution_count": 133,
   "metadata": {},
   "outputs": [
    {
     "data": {
      "image/png": "[encoded data removed]",
      "text/plain": [
       "<Figure size 432x288 with 1 Axes>"
      ]
     },
     "metadata": {},
     "output_type": "display_data"
    }
   ],
   "source": [
    "plt.scatter(X_test4, y_test4,  color='mediumorchid')\n",
    "plt.plot(X_test4, y_pred4, color='grey', linewidth=1)\n",
    "\n",
    "plt.ylabel(\"Distant in KM\")\n",
    "plt.xlabel(\"Time in Second\")\n",
    "plt.title(\"Group4 Running Profile\")\n",
    "\n",
    "axes4 = plt.gca()\n",
    "axes4.set_ylim([0,1200])\n",
    "axes4.set_xlim([0,45])\n",
    "\n",
    "plt.show()"
   ]
  },
  {
   "cell_type": "code",
   "execution_count": 134,
   "metadata": {},
   "outputs": [
    {
     "name": "stdout",
     "output_type": "stream",
     "text": [
      "(2481, 46)\n"
     ]
    }
   ],
   "source": [
    "#create running profile of time series vs km of group 4 people\n",
    "\n",
    "bostondrop5 = bostondrop.loc[bostondrop['K-mean group'] == 5]\n",
    "bostondrop5.head(5)\n",
    "print bostondrop5.shape"
   ]
  },
  {
   "cell_type": "code",
   "execution_count": 136,
   "metadata": {},
   "outputs": [
    {
     "name": "stdout",
     "output_type": "stream",
     "text": [
      "22329\n",
      "22329\n"
     ]
    }
   ],
   "source": [
    "Pace05K5 = bostondrop5['Pace 0-5K'].tolist()\n",
    "Pace510K5 = bostondrop5['Pace 5-10K'].tolist()\n",
    "Pace1015K5 = bostondrop5['Pace 10-15K'].tolist()\n",
    "Pace1520K5 = bostondrop5['Pace 15-20K'].tolist()\n",
    "Pace2025K5 = bostondrop5['Pace 20-25K'].tolist()\n",
    "Pace2530K5 = bostondrop5['Pace 25-30K'].tolist()\n",
    "Pace3035K5 = bostondrop5['Pace 30-35K'].tolist()\n",
    "Pace3540K5 = bostondrop5['Pace 35-40K'].tolist()\n",
    "Pace40FinK5 = bostondrop5['Pace 40-FinK'].tolist()\n",
    "\n",
    "mergedpace5 = Pace05K5+Pace510K5+Pace1015K5+Pace1520K5+Pace2025K5+Pace2530K5+Pace3035K5+Pace3540K5+Pace40FinK5\n",
    "km5 = (5,10,15,20,25,30,35,40,42.195) \n",
    "mergedkm5 = list(itertools.chain.from_iterable(itertools.repeat(x, 2481) for x in km5))\n",
    "\n",
    "print len(mergedpace5)\n",
    "print len(mergedkm5)"
   ]
  },
  {
   "cell_type": "code",
   "execution_count": 137,
   "metadata": {},
   "outputs": [
    {
     "name": "stderr",
     "output_type": "stream",
     "text": [
      "C:\\Users\\DELL\\Anaconda2\\lib\\site-packages\\ipykernel_launcher.py:4: FutureWarning: from_items is deprecated. Please use DataFrame.from_dict(dict(items), ...) instead. DataFrame.from_dict(OrderedDict(items)) may be used to preserve the key order.\n",
      "  after removing the cwd from sys.path.\n"
     ]
    },
    {
     "data": {
      "text/html": [
       "<div>\n",
       "<style scoped>\n",
       "    .dataframe tbody tr th:only-of-type {\n",
       "        vertical-align: middle;\n",
       "    }\n",
       "\n",
       "    .dataframe tbody tr th {\n",
       "        vertical-align: top;\n",
       "    }\n",
       "\n",
       "    .dataframe thead th {\n",
       "        text-align: right;\n",
       "    }\n",
       "</style>\n",
       "<table border=\"1\" class=\"dataframe\">\n",
       "  <thead>\n",
       "    <tr style=\"text-align: right;\">\n",
       "      <th></th>\n",
       "      <th>Distant in KM</th>\n",
       "      <th>Pace in Second/KM</th>\n",
       "    </tr>\n",
       "  </thead>\n",
       "  <tbody>\n",
       "    <tr>\n",
       "      <th>0</th>\n",
       "      <td>5.0</td>\n",
       "      <td>296.6</td>\n",
       "    </tr>\n",
       "    <tr>\n",
       "      <th>1</th>\n",
       "      <td>5.0</td>\n",
       "      <td>361.2</td>\n",
       "    </tr>\n",
       "    <tr>\n",
       "      <th>2</th>\n",
       "      <td>5.0</td>\n",
       "      <td>307.6</td>\n",
       "    </tr>\n",
       "  </tbody>\n",
       "</table>\n",
       "</div>"
      ],
      "text/plain": [
       "   Distant in KM  Pace in Second/KM\n",
       "0            5.0              296.6\n",
       "1            5.0              361.2\n",
       "2            5.0              307.6"
      ]
     },
     "execution_count": 137,
     "metadata": {},
     "output_type": "execute_result"
    }
   ],
   "source": [
    "# create dataframe\n",
    "\n",
    "runpace5 = [ ('Distant in KM',mergedkm5), ('Pace in Second/KM', mergedpace5)]\n",
    "runpacedf5 = pd.DataFrame.from_items(runpace5)\n",
    "runpacedf5.head(3)"
   ]
  },
  {
   "cell_type": "code",
   "execution_count": 138,
   "metadata": {},
   "outputs": [
    {
     "name": "stdout",
     "output_type": "stream",
     "text": [
      "346.4817421592701\n",
      "[2.70267047]\n"
     ]
    }
   ],
   "source": [
    "#regression\n",
    "\n",
    "X5 = runpacedf5.iloc[:, :-1].values  \n",
    "y5 = runpacedf5.iloc[:, 1].values\n",
    "\n",
    "from sklearn.model_selection import train_test_split  \n",
    "X_train5, X_test5, y_train5, y_test5 = train_test_split(X5, y5, test_size=0.2, random_state=0)\n",
    "from sklearn.linear_model import LinearRegression  \n",
    "lm5 = LinearRegression()  \n",
    "lm5.fit(X_train5, y_train5) \n",
    "\n",
    "print(lm5.intercept_)\n",
    "print(lm5.coef_)"
   ]
  },
  {
   "cell_type": "code",
   "execution_count": 139,
   "metadata": {},
   "outputs": [
    {
     "data": {
      "text/html": [
       "<div>\n",
       "<style scoped>\n",
       "    .dataframe tbody tr th:only-of-type {\n",
       "        vertical-align: middle;\n",
       "    }\n",
       "\n",
       "    .dataframe tbody tr th {\n",
       "        vertical-align: top;\n",
       "    }\n",
       "\n",
       "    .dataframe thead th {\n",
       "        text-align: right;\n",
       "    }\n",
       "</style>\n",
       "<table border=\"1\" class=\"dataframe\">\n",
       "  <thead>\n",
       "    <tr style=\"text-align: right;\">\n",
       "      <th></th>\n",
       "      <th>Actual</th>\n",
       "      <th>Predicted</th>\n",
       "    </tr>\n",
       "  </thead>\n",
       "  <tbody>\n",
       "    <tr>\n",
       "      <th>0</th>\n",
       "      <td>330.6</td>\n",
       "      <td>373.508447</td>\n",
       "    </tr>\n",
       "    <tr>\n",
       "      <th>1</th>\n",
       "      <td>459.4</td>\n",
       "      <td>441.075209</td>\n",
       "    </tr>\n",
       "    <tr>\n",
       "      <th>2</th>\n",
       "      <td>379.2</td>\n",
       "      <td>414.048504</td>\n",
       "    </tr>\n",
       "    <tr>\n",
       "      <th>3</th>\n",
       "      <td>343.2</td>\n",
       "      <td>414.048504</td>\n",
       "    </tr>\n",
       "    <tr>\n",
       "      <th>4</th>\n",
       "      <td>445.6</td>\n",
       "      <td>454.588561</td>\n",
       "    </tr>\n",
       "  </tbody>\n",
       "</table>\n",
       "</div>"
      ],
      "text/plain": [
       "   Actual   Predicted\n",
       "0   330.6  373.508447\n",
       "1   459.4  441.075209\n",
       "2   379.2  414.048504\n",
       "3   343.2  414.048504\n",
       "4   445.6  454.588561"
      ]
     },
     "execution_count": 139,
     "metadata": {},
     "output_type": "execute_result"
    }
   ],
   "source": [
    "y_pred5 = lm5.predict(X_test5)  \n",
    "prediction5 = pd.DataFrame({'Actual': y_test5, 'Predicted': y_pred5})  \n",
    "prediction5.head(5)"
   ]
  },
  {
   "cell_type": "code",
   "execution_count": null,
   "metadata": {},
   "outputs": [],
   "source": []
  },
  {
   "cell_type": "code",
   "execution_count": 143,
   "metadata": {},
   "outputs": [
    {
     "data": {
      "image/png": "[encoded data removed]",
      "text/plain": [
       "<Figure size 432x288 with 1 Axes>"
      ]
     },
     "metadata": {},
     "output_type": "display_data"
    }
   ],
   "source": [
    "plt.scatter(X_test5, y_test5,  color='gold')\n",
    "plt.plot(X_test5, y_pred5, color='grey', linewidth=1)\n",
    "\n",
    "plt.ylabel(\"Distant in KM\")\n",
    "plt.xlabel(\"Time in Second\")\n",
    "plt.title(\"Group5 Running Profile\")\n",
    "\n",
    "axes5 = plt.gca()\n",
    "axes5.set_ylim([0,1200])\n",
    "axes5.set_xlim([0,45])\n",
    "\n",
    "plt.show()"
   ]
  },
  {
   "cell_type": "code",
   "execution_count": 147,
   "metadata": {},
   "outputs": [
    {
     "name": "stdout",
     "output_type": "stream",
     "text": [
      "('Mean Absolute Error:', 30.07170010756918)\n",
      "('Mean Squared Error:', 1531.5670934517314)\n",
      "('Root Mean Squared Error:', 39.135241068016065)\n",
      "('R2:', 0.1966645696233863)\n"
     ]
    }
   ],
   "source": [
    "print('Mean Absolute Error:', metrics.mean_absolute_error(y_test0, y_pred0))  \n",
    "print('Mean Squared Error:', metrics.mean_squared_error(y_test0, y_pred0))  \n",
    "print('Root Mean Squared Error:', np.sqrt(metrics.mean_squared_error(y_test0, y_pred0)))\n",
    "print('R2:', metrics.r2_score(y_test0, y_pred0))"
   ]
  },
  {
   "cell_type": "code",
   "execution_count": 148,
   "metadata": {},
   "outputs": [
    {
     "name": "stdout",
     "output_type": "stream",
     "text": [
      "('Mean Absolute Error:', 28.05918592745385)\n",
      "('Mean Squared Error:', 1402.7745355040208)\n",
      "('Root Mean Squared Error:', 37.45363180659548)\n",
      "('R2:', 0.25283509755270017)\n"
     ]
    }
   ],
   "source": [
    "print('Mean Absolute Error:', metrics.mean_absolute_error(y_test1, y_pred1))  \n",
    "print('Mean Squared Error:', metrics.mean_squared_error(y_test1, y_pred1))  \n",
    "print('Root Mean Squared Error:', np.sqrt(metrics.mean_squared_error(y_test1, y_pred1)))\n",
    "print('R2:', metrics.r2_score(y_test1, y_pred1))"
   ]
  },
  {
   "cell_type": "code",
   "execution_count": 149,
   "metadata": {},
   "outputs": [
    {
     "name": "stdout",
     "output_type": "stream",
     "text": [
      "('Mean Absolute Error:', 41.824265526290795)\n",
      "('Mean Squared Error:', 3069.1056100342685)\n",
      "('Root Mean Squared Error:', 55.399509113657935)\n",
      "('R2:', 0.284837823527212)\n"
     ]
    }
   ],
   "source": [
    "print('Mean Absolute Error:', metrics.mean_absolute_error(y_test2, y_pred2))  \n",
    "print('Mean Squared Error:', metrics.mean_squared_error(y_test2, y_pred2))  \n",
    "print('Root Mean Squared Error:', np.sqrt(metrics.mean_squared_error(y_test2, y_pred2)))\n",
    "print('R2:', metrics.r2_score(y_test2, y_pred2))"
   ]
  },
  {
   "cell_type": "code",
   "execution_count": 150,
   "metadata": {},
   "outputs": [
    {
     "name": "stdout",
     "output_type": "stream",
     "text": [
      "('Mean Absolute Error:', 46.57060376638673)\n",
      "('Mean Squared Error:', 3907.524136559766)\n",
      "('Root Mean Squared Error:', 62.510192261420585)\n",
      "('R2:', 0.26869275540982385)\n"
     ]
    }
   ],
   "source": [
    "print('Mean Absolute Error:', metrics.mean_absolute_error(y_test3, y_pred3))  \n",
    "print('Mean Squared Error:', metrics.mean_squared_error(y_test3, y_pred3))  \n",
    "print('Root Mean Squared Error:', np.sqrt(metrics.mean_squared_error(y_test3, y_pred3)))\n",
    "print('R2:', metrics.r2_score(y_test3, y_pred3))"
   ]
  },
  {
   "cell_type": "code",
   "execution_count": 151,
   "metadata": {},
   "outputs": [
    {
     "name": "stdout",
     "output_type": "stream",
     "text": [
      "('Mean Absolute Error:', 32.16058246630445)\n",
      "('Mean Squared Error:', 1820.8420009958425)\n",
      "('Root Mean Squared Error:', 42.6713252781753)\n",
      "('R2:', 0.16068952549005278)\n"
     ]
    }
   ],
   "source": [
    "print('Mean Absolute Error:', metrics.mean_absolute_error(y_test4, y_pred4))  \n",
    "print('Mean Squared Error:', metrics.mean_squared_error(y_test4, y_pred4))  \n",
    "print('Root Mean Squared Error:', np.sqrt(metrics.mean_squared_error(y_test4, y_pred4)))\n",
    "print('R2:', metrics.r2_score(y_test4, y_pred4))"
   ]
  },
  {
   "cell_type": "code",
   "execution_count": 152,
   "metadata": {},
   "outputs": [
    {
     "name": "stdout",
     "output_type": "stream",
     "text": [
      "('Mean Absolute Error:', 47.846274237430684)\n",
      "('Mean Squared Error:', 6296.260470262542)\n",
      "('Root Mean Squared Error:', 79.3489790120991)\n",
      "('R2:', 0.16042845097483394)\n"
     ]
    }
   ],
   "source": [
    "print('Mean Absolute Error:', metrics.mean_absolute_error(y_test5, y_pred5))  \n",
    "print('Mean Squared Error:', metrics.mean_squared_error(y_test5, y_pred5))  \n",
    "print('Root Mean Squared Error:', np.sqrt(metrics.mean_squared_error(y_test5, y_pred5)))\n",
    "print('R2:', metrics.r2_score(y_test5, y_pred5))"
   ]
  },
  {
   "cell_type": "code",
   "execution_count": null,
   "metadata": {},
   "outputs": [],
   "source": []
  }
 ],
 "metadata": {
  "kernelspec": {
   "display_name": "Python 2",
   "language": "python",
   "name": "python2"
  },
  "language_info": {
   "codemirror_mode": {
    "name": "ipython",
    "version": 2
   },
   "file_extension": ".py",
   "mimetype": "text/x-python",
   "name": "python",
   "nbconvert_exporter": "python",
   "pygments_lexer": "ipython2",
   "version": "2.7.15"
  }
 },
 "nbformat": 4,
 "nbformat_minor": 2
}
